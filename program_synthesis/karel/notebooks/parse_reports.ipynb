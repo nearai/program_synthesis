{
 "cells": [
  {
   "cell_type": "code",
   "execution_count": 1,
   "metadata": {},
   "outputs": [],
   "source": [
    "import collections\n",
    "import cPickle as pickle\n",
    "import glob\n",
    "import itertools\n",
    "import json\n",
    "import operator\n",
    "import os\n",
    "import re\n",
    "import sys\n",
    "\n",
    "import matplotlib.pyplot as plt\n",
    "%matplotlib inline\n",
    "import editdistance\n",
    "import numpy as np\n",
    "\n",
    "from datasets import executor\n",
    "from datasets.karel.karel_runtime import KarelRuntime"
   ]
  },
  {
   "cell_type": "code",
   "execution_count": 97,
   "metadata": {},
   "outputs": [],
   "source": [
    "val_code = {}\n",
    "with open('data/karel/val.pkl') as f:\n",
    "    while True:\n",
    "        try:\n",
    "            example = pickle.load(f)\n",
    "            val_code[example['guid']] = tuple(example['code'])\n",
    "        except EOFError:\n",
    "            break\n",
    "\n",
    "test_code = {}\n",
    "with open('data/karel/test.pkl') as f:\n",
    "    while True:\n",
    "        try:\n",
    "            example = pickle.load(f)\n",
    "            test_code[example['guid']] = tuple(example['code'])\n",
    "        except EOFError:\n",
    "            break\n",
    "\n",
    "def test_top_n(exec_results, n):\n",
    "    correct, total = 0, 0\n",
    "    for guid, hypotheses in exec_results.iteritems():\n",
    "        total += 1\n",
    "        for i, (_, correctness) in zip(range(n), hypotheses):\n",
    "            if np.all(correctness[:5]):\n",
    "                correct += correctness[5]\n",
    "                break\n",
    "    return correct, total\n",
    "\n",
    "def test_top_n_any(exec_results, n):\n",
    "    correct, total = 0, 0\n",
    "    for guid, hypotheses in exec_results.iteritems():\n",
    "        total += 1\n",
    "        for i, (_, correctness) in zip(range(n), hypotheses):\n",
    "            if np.all(correctness):\n",
    "                correct += 1\n",
    "                break\n",
    "    return correct, total\n",
    "\n",
    "def test_top_n_any_exact_match(exec_results, n):\n",
    "    correct, total = 0, 0\n",
    "    for guid, hypotheses in exec_results.iteritems():\n",
    "        orig_code = val_code[guid]\n",
    "        total += 1\n",
    "        for i, (hypothesis, _) in zip(range(n), hypotheses):\n",
    "            if hypothesis == orig_code:\n",
    "                correct += 1\n",
    "                break\n",
    "    return correct, total"
   ]
  },
  {
   "cell_type": "code",
   "execution_count": 5,
   "metadata": {},
   "outputs": [
    {
     "name": "stdout",
     "output_type": "stream",
     "text": [
      "karel-lgrl-ref-m1-sgd-cl1-lr0.1-lds100k-ldr0.5 0,0,1 step 100100: 0.4116 (of 2500)\n",
      "karel-lgrl-ref-m1-sgd-cl1-lr0.1-lds100k-ldr0.5 0,0,1 step 150100: 0.4068 (of 2500)\n",
      "karel-lgrl-ref-m1-sgd-cl1-lr0.1-lds100k-ldr0.5 0,0,1 step 200100: 0.3960 (of 2500)\n",
      "karel-lgrl-ref-m1-sgd-cl1-lr0.1-lds100k-ldr0.5 0,0,1 step 250100: 0.3748 (of 2500)\n",
      "karel-lgrl-ref-m1-sgd-cl1-lr0.1-lds100k-ldr0.5 0,0,1 step 300100: 0.3664 (of 2500)\n",
      "karel-lgrl-ref-m1-sgd-cl1-lr0.1-lds100k-ldr0.5 0,0,1 step 350100: 0.3640 (of 2500)\n",
      "karel-lgrl-ref-m1-sgd-cl1-lr0.1-lds100k-ldr0.5 0,0,1 step 400100: 0.3520 (of 2500)\n",
      "karel-lgrl-ref-m1-sgd-cl1-lr0.1-lds100k-ldr0.5 0,0,1 step 450100: 0.3636 (of 2500)\n",
      "karel-lgrl-ref-m1-sgd-cl1-lr0.1-lds100k-ldr0.5 0,0,1 step 456000: 0.3496 (of 2500)\n",
      "karel-lgrl-ref-m1-sgd-cl1-lr0.1-lds100k-ldr0.5 0,0,1 step 50100: 0.3832 (of 2500)\n",
      "karel-lgrl-ref-m1-sgd-cl1-lr0.1-lds100k-ldr0.5 0,1 step 100100: 0.7212 (of 2500)\n",
      "karel-lgrl-ref-m1-sgd-cl1-lr0.1-lds100k-ldr0.5 0,1 step 150100: 0.7008 (of 2500)\n",
      "karel-lgrl-ref-m1-sgd-cl1-lr0.1-lds100k-ldr0.5 0,1 step 200100: 0.7072 (of 2500)\n",
      "karel-lgrl-ref-m1-sgd-cl1-lr0.1-lds100k-ldr0.5 0,1 step 250100: 0.6592 (of 2500)\n",
      "karel-lgrl-ref-m1-sgd-cl1-lr0.1-lds100k-ldr0.5 0,1 step 300100: 0.6624 (of 2500)\n",
      "karel-lgrl-ref-m1-sgd-cl1-lr0.1-lds100k-ldr0.5 0,1 step 350100: 0.6284 (of 2500)\n",
      "karel-lgrl-ref-m1-sgd-cl1-lr0.1-lds100k-ldr0.5 0,1 step 400100: 0.6372 (of 2500)\n",
      "karel-lgrl-ref-m1-sgd-cl1-lr0.1-lds100k-ldr0.5 0,1 step 450100: 0.6252 (of 2500)\n",
      "karel-lgrl-ref-m1-sgd-cl1-lr0.1-lds100k-ldr0.5 0,1 step 456000: 0.6132 (of 2500)\n",
      "karel-lgrl-ref-m1-sgd-cl1-lr0.1-lds100k-ldr0.5 0,1 step 50100: 0.6836 (of 2500)\n",
      "karel-lgrl-ref-m1-sgd-cl1-lr0.1-lds100k-ldr0.5 1 step 100100: 0.9768 (of 2500)\n",
      "karel-lgrl-ref-m1-sgd-cl1-lr0.1-lds100k-ldr0.5 1 step 150100: 0.9812 (of 2500)\n",
      "karel-lgrl-ref-m1-sgd-cl1-lr0.1-lds100k-ldr0.5 1 step 200100: 0.9796 (of 2500)\n",
      "karel-lgrl-ref-m1-sgd-cl1-lr0.1-lds100k-ldr0.5 1 step 250100: 0.9780 (of 2500)\n",
      "karel-lgrl-ref-m1-sgd-cl1-lr0.1-lds100k-ldr0.5 1 step 300100: 0.9736 (of 2500)\n",
      "karel-lgrl-ref-m1-sgd-cl1-lr0.1-lds100k-ldr0.5 1 step 350100: 0.9776 (of 2500)\n",
      "karel-lgrl-ref-m1-sgd-cl1-lr0.1-lds100k-ldr0.5 1 step 400100: 0.9780 (of 2500)\n",
      "karel-lgrl-ref-m1-sgd-cl1-lr0.1-lds100k-ldr0.5 1 step 450100: 0.9700 (of 2500)\n",
      "karel-lgrl-ref-m1-sgd-cl1-lr0.1-lds100k-ldr0.5 1 step 456000: 0.9724 (of 2500)\n",
      "karel-lgrl-ref-m1-sgd-cl1-lr0.1-lds100k-ldr0.5 1 step 50100: 0.9732 (of 2500)\n",
      "karel-lgrl-ref-m12-sgd-cl1-lr0.1-lds100k-ldr0.5 0,0,1 step 100100: 0.8604 (of 2500)\n",
      "karel-lgrl-ref-m12-sgd-cl1-lr0.1-lds100k-ldr0.5 0,0,1 step 150100: 0.8676 (of 2500)\n",
      "karel-lgrl-ref-m12-sgd-cl1-lr0.1-lds100k-ldr0.5 0,0,1 step 200100: 0.8612 (of 2500)\n",
      "karel-lgrl-ref-m12-sgd-cl1-lr0.1-lds100k-ldr0.5 0,0,1 step 250100: 0.8596 (of 2500)\n",
      "karel-lgrl-ref-m12-sgd-cl1-lr0.1-lds100k-ldr0.5 0,0,1 step 300100: 0.8600 (of 2500)\n",
      "karel-lgrl-ref-m12-sgd-cl1-lr0.1-lds100k-ldr0.5 0,0,1 step 350100: 0.8560 (of 2500)\n",
      "karel-lgrl-ref-m12-sgd-cl1-lr0.1-lds100k-ldr0.5 0,0,1 step 400100: 0.8528 (of 2500)\n",
      "karel-lgrl-ref-m12-sgd-cl1-lr0.1-lds100k-ldr0.5 0,0,1 step 442100: 0.8536 (of 2500)\n",
      "karel-lgrl-ref-m12-sgd-cl1-lr0.1-lds100k-ldr0.5 0,0,1 step 50100: 0.8196 (of 2500)\n",
      "karel-lgrl-ref-m12-sgd-cl1-lr0.1-lds100k-ldr0.5 0,1 step 100100: 0.9332 (of 2500)\n",
      "karel-lgrl-ref-m12-sgd-cl1-lr0.1-lds100k-ldr0.5 0,1 step 150100: 0.9436 (of 2500)\n",
      "karel-lgrl-ref-m12-sgd-cl1-lr0.1-lds100k-ldr0.5 0,1 step 200100: 0.9480 (of 2500)\n",
      "karel-lgrl-ref-m12-sgd-cl1-lr0.1-lds100k-ldr0.5 0,1 step 250100: 0.9464 (of 2500)\n",
      "karel-lgrl-ref-m12-sgd-cl1-lr0.1-lds100k-ldr0.5 0,1 step 300100: 0.9484 (of 2500)\n",
      "karel-lgrl-ref-m12-sgd-cl1-lr0.1-lds100k-ldr0.5 0,1 step 350100: 0.9424 (of 2500)\n",
      "karel-lgrl-ref-m12-sgd-cl1-lr0.1-lds100k-ldr0.5 0,1 step 400100: 0.9380 (of 2500)\n",
      "karel-lgrl-ref-m12-sgd-cl1-lr0.1-lds100k-ldr0.5 0,1 step 442100: 0.9384 (of 2500)\n",
      "karel-lgrl-ref-m12-sgd-cl1-lr0.1-lds100k-ldr0.5 0,1 step 50100: 0.9144 (of 2500)\n",
      "karel-lgrl-ref-m12-sgd-cl1-lr0.1-lds100k-ldr0.5 1 step 100100: 0.9656 (of 2500)\n",
      "karel-lgrl-ref-m12-sgd-cl1-lr0.1-lds100k-ldr0.5 1 step 150100: 0.9716 (of 2500)\n",
      "karel-lgrl-ref-m12-sgd-cl1-lr0.1-lds100k-ldr0.5 1 step 200100: 0.9724 (of 2500)\n",
      "karel-lgrl-ref-m12-sgd-cl1-lr0.1-lds100k-ldr0.5 1 step 250100: 0.9680 (of 2500)\n",
      "karel-lgrl-ref-m12-sgd-cl1-lr0.1-lds100k-ldr0.5 1 step 300100: 0.9716 (of 2500)\n",
      "karel-lgrl-ref-m12-sgd-cl1-lr0.1-lds100k-ldr0.5 1 step 350100: 0.9680 (of 2500)\n",
      "karel-lgrl-ref-m12-sgd-cl1-lr0.1-lds100k-ldr0.5 1 step 400100: 0.9652 (of 2500)\n",
      "karel-lgrl-ref-m12-sgd-cl1-lr0.1-lds100k-ldr0.5 1 step 442100: 0.9644 (of 2500)\n",
      "karel-lgrl-ref-m12-sgd-cl1-lr0.1-lds100k-ldr0.5 1 step 50100: 0.9628 (of 2500)\n",
      "karel-lgrl-ref-m123-sgd-cl1-lr0.1-lds100k-ldr0.5 0,0,1 step 100100: 0.9008 (of 2500)\n",
      "karel-lgrl-ref-m123-sgd-cl1-lr0.1-lds100k-ldr0.5 0,0,1 step 150100: 0.9100 (of 2500)\n",
      "karel-lgrl-ref-m123-sgd-cl1-lr0.1-lds100k-ldr0.5 0,0,1 step 200100: 0.9168 (of 2500)\n",
      "karel-lgrl-ref-m123-sgd-cl1-lr0.1-lds100k-ldr0.5 0,0,1 step 250100: 0.9184 (of 2500)\n",
      "karel-lgrl-ref-m123-sgd-cl1-lr0.1-lds100k-ldr0.5 0,0,1 step 300100: 0.9176 (of 2500)\n",
      "karel-lgrl-ref-m123-sgd-cl1-lr0.1-lds100k-ldr0.5 0,0,1 step 350100: 0.9140 (of 2500)\n",
      "karel-lgrl-ref-m123-sgd-cl1-lr0.1-lds100k-ldr0.5 0,0,1 step 400100: 0.9100 (of 2500)\n",
      "karel-lgrl-ref-m123-sgd-cl1-lr0.1-lds100k-ldr0.5 0,0,1 step 431500: 0.9076 (of 2500)\n",
      "karel-lgrl-ref-m123-sgd-cl1-lr0.1-lds100k-ldr0.5 0,0,1 step 50100: 0.8512 (of 2500)\n",
      "karel-lgrl-ref-m123-sgd-cl1-lr0.1-lds100k-ldr0.5 0,1 step 100100: 0.9424 (of 2500)\n",
      "karel-lgrl-ref-m123-sgd-cl1-lr0.1-lds100k-ldr0.5 0,1 step 150100: 0.9476 (of 2500)\n",
      "karel-lgrl-ref-m123-sgd-cl1-lr0.1-lds100k-ldr0.5 0,1 step 200100: 0.9556 (of 2500)\n",
      "karel-lgrl-ref-m123-sgd-cl1-lr0.1-lds100k-ldr0.5 0,1 step 250100: 0.9492 (of 2500)\n",
      "karel-lgrl-ref-m123-sgd-cl1-lr0.1-lds100k-ldr0.5 0,1 step 300100: 0.9512 (of 2500)\n",
      "karel-lgrl-ref-m123-sgd-cl1-lr0.1-lds100k-ldr0.5 0,1 step 350100: 0.9500 (of 2500)\n",
      "karel-lgrl-ref-m123-sgd-cl1-lr0.1-lds100k-ldr0.5 0,1 step 400100: 0.9496 (of 2500)\n",
      "karel-lgrl-ref-m123-sgd-cl1-lr0.1-lds100k-ldr0.5 0,1 step 431500: 0.9476 (of 2500)\n",
      "karel-lgrl-ref-m123-sgd-cl1-lr0.1-lds100k-ldr0.5 0,1 step 50100: 0.9128 (of 2500)\n",
      "karel-lgrl-ref-m123-sgd-cl1-lr0.1-lds100k-ldr0.5 1 step 100100: 0.9684 (of 2500)\n",
      "karel-lgrl-ref-m123-sgd-cl1-lr0.1-lds100k-ldr0.5 1 step 150100: 0.9716 (of 2500)\n",
      "karel-lgrl-ref-m123-sgd-cl1-lr0.1-lds100k-ldr0.5 1 step 200100: 0.9724 (of 2500)\n",
      "karel-lgrl-ref-m123-sgd-cl1-lr0.1-lds100k-ldr0.5 1 step 250100: 0.9720 (of 2500)\n",
      "karel-lgrl-ref-m123-sgd-cl1-lr0.1-lds100k-ldr0.5 1 step 300100: 0.9736 (of 2500)\n",
      "karel-lgrl-ref-m123-sgd-cl1-lr0.1-lds100k-ldr0.5 1 step 350100: 0.9720 (of 2500)\n",
      "karel-lgrl-ref-m123-sgd-cl1-lr0.1-lds100k-ldr0.5 1 step 400100: 0.9692 (of 2500)\n",
      "karel-lgrl-ref-m123-sgd-cl1-lr0.1-lds100k-ldr0.5 1 step 431500: 0.9660 (of 2500)\n",
      "karel-lgrl-ref-m123-sgd-cl1-lr0.1-lds100k-ldr0.5 1 step 50100: 0.9560 (of 2500)\n"
     ]
    }
   ],
   "source": [
    "for fn in sorted(glob.glob('logdirs/20180201/*/report-dev-*.jsonl')):\n",
    "    result = json.loads(next(iter(open(fn))))\n",
    "    \n",
    "    dist, step = re.search(r'report-dev-m(.*)-(\\d+).jsonl', fn).groups()\n",
    "    model_name = os.path.basename(os.path.dirname(fn))\n",
    "    \n",
    "    print '{} {} step {}: {:.4f} (of {})'.format(\n",
    "        model_name, dist, step, result['correct'] / float(result['total']), result['total'])"
   ]
  },
  {
   "cell_type": "code",
   "execution_count": 10,
   "metadata": {},
   "outputs": [
    {
     "data": {
      "text/plain": [
       "[(('karel-lgrl-ref-m1-sgd-cl1-lr0.1-lds100k-ldr0.5', '0,0,1'),\n",
       "  (0.4116, -100100)),\n",
       " (('karel-lgrl-ref-m1-sgd-cl1-lr0.1-lds100k-ldr0.5', '0,1'),\n",
       "  (0.7212, -100100)),\n",
       " (('karel-lgrl-ref-m1-sgd-cl1-lr0.1-lds100k-ldr0.5', '1'), (0.9812, -150100)),\n",
       " (('karel-lgrl-ref-m12-sgd-cl1-lr0.1-lds100k-ldr0.5', '0,0,1'),\n",
       "  (0.8676, -150100)),\n",
       " (('karel-lgrl-ref-m12-sgd-cl1-lr0.1-lds100k-ldr0.5', '0,1'),\n",
       "  (0.9484, -300100)),\n",
       " (('karel-lgrl-ref-m12-sgd-cl1-lr0.1-lds100k-ldr0.5', '1'), (0.9724, -200100)),\n",
       " (('karel-lgrl-ref-m123-sgd-cl1-lr0.1-lds100k-ldr0.5', '0,0,1'),\n",
       "  (0.9184, -250100)),\n",
       " (('karel-lgrl-ref-m123-sgd-cl1-lr0.1-lds100k-ldr0.5', '0,1'),\n",
       "  (0.9556, -200100)),\n",
       " (('karel-lgrl-ref-m123-sgd-cl1-lr0.1-lds100k-ldr0.5', '1'),\n",
       "  (0.9736, -300100))]"
      ]
     },
     "execution_count": 10,
     "metadata": {},
     "output_type": "execute_result"
    }
   ],
   "source": [
    "model_best = collections.defaultdict(lambda: (0.0, 0))\n",
    "for fn in sorted(glob.glob('logdirs/20180201/*/report-dev-*.jsonl')):\n",
    "    result = json.loads(next(iter(open(fn))))\n",
    "    dist, step = re.search(r'report-dev-m(.*)-(\\d+).jsonl', fn).groups()\n",
    "    step = int(step)\n",
    "    model_name = os.path.basename(os.path.dirname(fn))\n",
    "    accuracy = result['correct'] / float(result['total'])\n",
    "    print '{} {} step {}: {:.4f} (of {})'.format(model_name, dist, step, accuracy, result['total'])\n",
    "    model_best[model_name, dist] = max(model_best[model_name, dist], accuracy, -step))"
   ]
  },
  {
   "cell_type": "code",
   "execution_count": 14,
   "metadata": {},
   "outputs": [
    {
     "name": "stdout",
     "output_type": "stream",
     "text": [
      "karel-lgrl-ref-m1-sgd-cl1-lr0.1-lds100k-ldr0.5 0,0,1 step 100100: 0.1124 (of 2500)\n",
      "karel-lgrl-ref-m1-sgd-cl1-lr0.1-lds100k-ldr0.5 0,0,1 step 150100: 0.1268 (of 2500)\n",
      "karel-lgrl-ref-m1-sgd-cl1-lr0.1-lds100k-ldr0.5 0,0,1 step 200100: 0.1268 (of 2500)\n",
      "karel-lgrl-ref-m1-sgd-cl1-lr0.1-lds100k-ldr0.5 0,0,1 step 250100: 0.1200 (of 2500)\n",
      "karel-lgrl-ref-m1-sgd-cl1-lr0.1-lds100k-ldr0.5 0,0,1 step 300100: 0.1184 (of 2500)\n",
      "karel-lgrl-ref-m1-sgd-cl1-lr0.1-lds100k-ldr0.5 0,0,1 step 350100: 0.1208 (of 2500)\n",
      "karel-lgrl-ref-m1-sgd-cl1-lr0.1-lds100k-ldr0.5 0,0,1 step 400100: 0.1240 (of 2500)\n",
      "karel-lgrl-ref-m1-sgd-cl1-lr0.1-lds100k-ldr0.5 0,0,1 step 450100: 0.1220 (of 2500)\n",
      "karel-lgrl-ref-m1-sgd-cl1-lr0.1-lds100k-ldr0.5 0,0,1 step 456000: 0.1204 (of 2500)\n",
      "karel-lgrl-ref-m1-sgd-cl1-lr0.1-lds100k-ldr0.5 0,0,1 step 50100: 0.0932 (of 2500)\n",
      "karel-lgrl-ref-m1-sgd-cl1-lr0.1-lds100k-ldr0.5 0,1 step 100100: 0.2248 (of 2500)\n",
      "karel-lgrl-ref-m1-sgd-cl1-lr0.1-lds100k-ldr0.5 0,1 step 150100: 0.2300 (of 2500)\n",
      "karel-lgrl-ref-m1-sgd-cl1-lr0.1-lds100k-ldr0.5 0,1 step 200100: 0.2364 (of 2500)\n",
      "karel-lgrl-ref-m1-sgd-cl1-lr0.1-lds100k-ldr0.5 0,1 step 250100: 0.2156 (of 2500)\n",
      "karel-lgrl-ref-m1-sgd-cl1-lr0.1-lds100k-ldr0.5 0,1 step 300100: 0.2248 (of 2500)\n",
      "karel-lgrl-ref-m1-sgd-cl1-lr0.1-lds100k-ldr0.5 0,1 step 350100: 0.2256 (of 2500)\n",
      "karel-lgrl-ref-m1-sgd-cl1-lr0.1-lds100k-ldr0.5 0,1 step 400100: 0.2248 (of 2500)\n",
      "karel-lgrl-ref-m1-sgd-cl1-lr0.1-lds100k-ldr0.5 0,1 step 450100: 0.2212 (of 2500)\n",
      "karel-lgrl-ref-m1-sgd-cl1-lr0.1-lds100k-ldr0.5 0,1 step 456000: 0.2336 (of 2500)\n",
      "karel-lgrl-ref-m1-sgd-cl1-lr0.1-lds100k-ldr0.5 0,1 step 50100: 0.1660 (of 2500)\n",
      "karel-lgrl-ref-m1-sgd-cl1-lr0.1-lds100k-ldr0.5 0 step 50100: 0.6813 (of 160)\n",
      "karel-lgrl-ref-m1-sgd-cl1-lr0.1-lds100k-ldr0.5 1 step 100100: 0.7664 (of 2500)\n",
      "karel-lgrl-ref-m1-sgd-cl1-lr0.1-lds100k-ldr0.5 1 step 150100: 0.7752 (of 2500)\n",
      "karel-lgrl-ref-m1-sgd-cl1-lr0.1-lds100k-ldr0.5 1 step 200100: 0.7880 (of 2500)\n",
      "karel-lgrl-ref-m1-sgd-cl1-lr0.1-lds100k-ldr0.5 1 step 250100: 0.7856 (of 2500)\n",
      "karel-lgrl-ref-m1-sgd-cl1-lr0.1-lds100k-ldr0.5 1 step 300100: 0.7900 (of 2500)\n",
      "karel-lgrl-ref-m1-sgd-cl1-lr0.1-lds100k-ldr0.5 1 step 350100: 0.7764 (of 2500)\n",
      "karel-lgrl-ref-m1-sgd-cl1-lr0.1-lds100k-ldr0.5 1 step 400100: 0.7784 (of 2500)\n",
      "karel-lgrl-ref-m1-sgd-cl1-lr0.1-lds100k-ldr0.5 1 step 450100: 0.7720 (of 2500)\n",
      "karel-lgrl-ref-m1-sgd-cl1-lr0.1-lds100k-ldr0.5 1 step 456000: 0.7788 (of 2500)\n",
      "karel-lgrl-ref-m1-sgd-cl1-lr0.1-lds100k-ldr0.5 1 step 50100: 0.6880 (of 2500)\n",
      "karel-lgrl-ref-m12-sgd-cl1-lr0.1-lds100k-ldr0.5 0,0,1 step 100100: 0.4920 (of 2500)\n",
      "karel-lgrl-ref-m12-sgd-cl1-lr0.1-lds100k-ldr0.5 0,0,1 step 150100: 0.5184 (of 2500)\n",
      "karel-lgrl-ref-m12-sgd-cl1-lr0.1-lds100k-ldr0.5 0,0,1 step 200100: 0.5028 (of 2500)\n",
      "karel-lgrl-ref-m12-sgd-cl1-lr0.1-lds100k-ldr0.5 0,0,1 step 250100: 0.5116 (of 2500)\n",
      "karel-lgrl-ref-m12-sgd-cl1-lr0.1-lds100k-ldr0.5 0,0,1 step 300100: 0.5180 (of 2500)\n",
      "karel-lgrl-ref-m12-sgd-cl1-lr0.1-lds100k-ldr0.5 0,0,1 step 350100: 0.4988 (of 2500)\n",
      "karel-lgrl-ref-m12-sgd-cl1-lr0.1-lds100k-ldr0.5 0,0,1 step 400100: 0.5096 (of 2500)\n",
      "karel-lgrl-ref-m12-sgd-cl1-lr0.1-lds100k-ldr0.5 0,0,1 step 442100: 0.5108 (of 2500)\n",
      "karel-lgrl-ref-m12-sgd-cl1-lr0.1-lds100k-ldr0.5 0,0,1 step 50100: 0.4024 (of 2500)\n",
      "karel-lgrl-ref-m12-sgd-cl1-lr0.1-lds100k-ldr0.5 0,1 step 100100: 0.6480 (of 2500)\n",
      "karel-lgrl-ref-m12-sgd-cl1-lr0.1-lds100k-ldr0.5 0,1 step 150100: 0.6896 (of 2500)\n",
      "karel-lgrl-ref-m12-sgd-cl1-lr0.1-lds100k-ldr0.5 0,1 step 200100: 0.6932 (of 2500)\n",
      "karel-lgrl-ref-m12-sgd-cl1-lr0.1-lds100k-ldr0.5 0,1 step 250100: 0.6988 (of 2500)\n",
      "karel-lgrl-ref-m12-sgd-cl1-lr0.1-lds100k-ldr0.5 0,1 step 300100: 0.7076 (of 2500)\n",
      "karel-lgrl-ref-m12-sgd-cl1-lr0.1-lds100k-ldr0.5 0,1 step 350100: 0.6976 (of 2500)\n",
      "karel-lgrl-ref-m12-sgd-cl1-lr0.1-lds100k-ldr0.5 0,1 step 400100: 0.6932 (of 2500)\n",
      "karel-lgrl-ref-m12-sgd-cl1-lr0.1-lds100k-ldr0.5 0,1 step 442100: 0.7064 (of 2500)\n",
      "karel-lgrl-ref-m12-sgd-cl1-lr0.1-lds100k-ldr0.5 0,1 step 50100: 0.5536 (of 2500)\n",
      "karel-lgrl-ref-m12-sgd-cl1-lr0.1-lds100k-ldr0.5 1 step 100100: 0.7760 (of 2500)\n",
      "karel-lgrl-ref-m12-sgd-cl1-lr0.1-lds100k-ldr0.5 1 step 150100: 0.7956 (of 2500)\n",
      "karel-lgrl-ref-m12-sgd-cl1-lr0.1-lds100k-ldr0.5 1 step 200100: 0.8156 (of 2500)\n",
      "karel-lgrl-ref-m12-sgd-cl1-lr0.1-lds100k-ldr0.5 1 step 250100: 0.8112 (of 2500)\n",
      "karel-lgrl-ref-m12-sgd-cl1-lr0.1-lds100k-ldr0.5 1 step 300100: 0.8144 (of 2500)\n",
      "karel-lgrl-ref-m12-sgd-cl1-lr0.1-lds100k-ldr0.5 1 step 350100: 0.8048 (of 2500)\n",
      "karel-lgrl-ref-m12-sgd-cl1-lr0.1-lds100k-ldr0.5 1 step 400100: 0.8060 (of 2500)\n",
      "karel-lgrl-ref-m12-sgd-cl1-lr0.1-lds100k-ldr0.5 1 step 442100: 0.7968 (of 2500)\n",
      "karel-lgrl-ref-m12-sgd-cl1-lr0.1-lds100k-ldr0.5 1 step 50100: 0.7188 (of 2500)\n",
      "karel-lgrl-ref-m123-sgd-cl1-lr0.1-lds100k-ldr0.5 0,0,1 step 100100: 0.6092 (of 2500)\n",
      "karel-lgrl-ref-m123-sgd-cl1-lr0.1-lds100k-ldr0.5 0,0,1 step 150100: 0.6524 (of 2500)\n",
      "karel-lgrl-ref-m123-sgd-cl1-lr0.1-lds100k-ldr0.5 0,0,1 step 200100: 0.6736 (of 2500)\n",
      "karel-lgrl-ref-m123-sgd-cl1-lr0.1-lds100k-ldr0.5 0,0,1 step 250100: 0.6872 (of 2500)\n",
      "karel-lgrl-ref-m123-sgd-cl1-lr0.1-lds100k-ldr0.5 0,0,1 step 300100: 0.6888 (of 2500)\n",
      "karel-lgrl-ref-m123-sgd-cl1-lr0.1-lds100k-ldr0.5 0,0,1 step 350100: 0.6872 (of 2500)\n",
      "karel-lgrl-ref-m123-sgd-cl1-lr0.1-lds100k-ldr0.5 0,0,1 step 400100: 0.6912 (of 2500)\n",
      "karel-lgrl-ref-m123-sgd-cl1-lr0.1-lds100k-ldr0.5 0,0,1 step 431500: 0.6824 (of 2500)\n",
      "karel-lgrl-ref-m123-sgd-cl1-lr0.1-lds100k-ldr0.5 0,0,1 step 50100: 0.5044 (of 2500)\n",
      "karel-lgrl-ref-m123-sgd-cl1-lr0.1-lds100k-ldr0.5 0,1 step 100100: 0.6928 (of 2500)\n",
      "karel-lgrl-ref-m123-sgd-cl1-lr0.1-lds100k-ldr0.5 0,1 step 150100: 0.7284 (of 2500)\n",
      "karel-lgrl-ref-m123-sgd-cl1-lr0.1-lds100k-ldr0.5 0,1 step 200100: 0.7504 (of 2500)\n",
      "karel-lgrl-ref-m123-sgd-cl1-lr0.1-lds100k-ldr0.5 0,1 step 250100: 0.7604 (of 2500)\n",
      "karel-lgrl-ref-m123-sgd-cl1-lr0.1-lds100k-ldr0.5 0,1 step 300100: 0.7596 (of 2500)\n",
      "karel-lgrl-ref-m123-sgd-cl1-lr0.1-lds100k-ldr0.5 0,1 step 350100: 0.7644 (of 2500)\n",
      "karel-lgrl-ref-m123-sgd-cl1-lr0.1-lds100k-ldr0.5 0,1 step 400100: 0.7600 (of 2500)\n",
      "karel-lgrl-ref-m123-sgd-cl1-lr0.1-lds100k-ldr0.5 0,1 step 431500: 0.7460 (of 2500)\n",
      "karel-lgrl-ref-m123-sgd-cl1-lr0.1-lds100k-ldr0.5 0,1 step 50100: 0.5956 (of 2500)\n",
      "karel-lgrl-ref-m123-sgd-cl1-lr0.1-lds100k-ldr0.5 1 step 100100: 0.7896 (of 2500)\n",
      "karel-lgrl-ref-m123-sgd-cl1-lr0.1-lds100k-ldr0.5 1 step 150100: 0.8140 (of 2500)\n",
      "karel-lgrl-ref-m123-sgd-cl1-lr0.1-lds100k-ldr0.5 1 step 200100: 0.8212 (of 2500)\n",
      "karel-lgrl-ref-m123-sgd-cl1-lr0.1-lds100k-ldr0.5 1 step 250100: 0.8276 (of 2500)\n",
      "karel-lgrl-ref-m123-sgd-cl1-lr0.1-lds100k-ldr0.5 1 step 300100: 0.8192 (of 2500)\n",
      "karel-lgrl-ref-m123-sgd-cl1-lr0.1-lds100k-ldr0.5 1 step 350100: 0.8144 (of 2500)\n",
      "karel-lgrl-ref-m123-sgd-cl1-lr0.1-lds100k-ldr0.5 1 step 400100: 0.8184 (of 2500)\n",
      "karel-lgrl-ref-m123-sgd-cl1-lr0.1-lds100k-ldr0.5 1 step 431500: 0.8120 (of 2500)\n",
      "karel-lgrl-ref-m123-sgd-cl1-lr0.1-lds100k-ldr0.5 1 step 50100: 0.7092 (of 2500)\n"
     ]
    }
   ],
   "source": [
    "top1_model_best = collections.defaultdict(lambda: (0.0, 0))\n",
    "for fn in sorted(glob.glob('logdirs/20180201/*/exec-results-dev-*.pkl')):\n",
    "    dist, step = re.search(r'exec-results-dev-m(.*)-(\\d+).pkl', fn).groups()\n",
    "    step = int(step)\n",
    "    model_name = os.path.basename(os.path.dirname(fn))\n",
    "    exec_results = pickle.load(open(fn))\n",
    "    correct, total = test_top_n(exec_results, 1)\n",
    "    accuracy = correct / float(total)\n",
    "    print '{} {} step {}: {:.4f} (of {})'.format(model_name, dist, step, accuracy, total)\n",
    "    top1_model_best[model_name, dist] = max(top1_model_best[model_name, dist], (accuracy, -int(step)))"
   ]
  },
  {
   "cell_type": "code",
   "execution_count": 15,
   "metadata": {},
   "outputs": [
    {
     "data": {
      "text/plain": [
       "defaultdict(<function __main__.<lambda>>,\n",
       "            {('karel-lgrl-ref-m1-sgd-cl1-lr0.1-lds100k-ldr0.5', '0'): (0.68125,\n",
       "              -50100),\n",
       "             ('karel-lgrl-ref-m1-sgd-cl1-lr0.1-lds100k-ldr0.5',\n",
       "              '0,0,1'): (0.1268, -150100),\n",
       "             ('karel-lgrl-ref-m1-sgd-cl1-lr0.1-lds100k-ldr0.5',\n",
       "              '0,1'): (0.2364, -200100),\n",
       "             ('karel-lgrl-ref-m1-sgd-cl1-lr0.1-lds100k-ldr0.5', '1'): (0.79,\n",
       "              -300100),\n",
       "             ('karel-lgrl-ref-m12-sgd-cl1-lr0.1-lds100k-ldr0.5',\n",
       "              '0,0,1'): (0.5184, -150100),\n",
       "             ('karel-lgrl-ref-m12-sgd-cl1-lr0.1-lds100k-ldr0.5',\n",
       "              '0,1'): (0.7076, -300100),\n",
       "             ('karel-lgrl-ref-m12-sgd-cl1-lr0.1-lds100k-ldr0.5', '1'): (0.8156,\n",
       "              -200100),\n",
       "             ('karel-lgrl-ref-m123-sgd-cl1-lr0.1-lds100k-ldr0.5',\n",
       "              '0,0,1'): (0.6912, -400100),\n",
       "             ('karel-lgrl-ref-m123-sgd-cl1-lr0.1-lds100k-ldr0.5',\n",
       "              '0,1'): (0.7644, -350100),\n",
       "             ('karel-lgrl-ref-m123-sgd-cl1-lr0.1-lds100k-ldr0.5',\n",
       "              '1'): (0.8276, -250100)})"
      ]
     },
     "execution_count": 15,
     "metadata": {},
     "output_type": "execute_result"
    }
   ],
   "source": [
    "top1_model_best"
   ]
  },
  {
   "cell_type": "code",
   "execution_count": 19,
   "metadata": {
    "collapsed": true
   },
   "outputs": [
    {
     "name": "stdout",
     "output_type": "stream",
     "text": [
      "karel-lgrl-ref-edit-m1-sgd-cl1-lr0.1-lds100k-ldr0.5 0,0,1 step 100100: 0.1256 (of 2500)\n",
      "karel-lgrl-ref-edit-m1-sgd-cl1-lr0.1-lds100k-ldr0.5 0,0,1 step 150100: 0.1204 (of 2500)\n",
      "karel-lgrl-ref-edit-m1-sgd-cl1-lr0.1-lds100k-ldr0.5 0,0,1 step 200100: 0.1184 (of 2500)\n",
      "karel-lgrl-ref-edit-m1-sgd-cl1-lr0.1-lds100k-ldr0.5 0,0,1 step 250100: 0.1156 (of 2500)\n",
      "karel-lgrl-ref-edit-m1-sgd-cl1-lr0.1-lds100k-ldr0.5 0,0,1 step 300100: 0.1144 (of 2500)\n",
      "karel-lgrl-ref-edit-m1-sgd-cl1-lr0.1-lds100k-ldr0.5 0,0,1 step 350100: 0.1164 (of 2500)\n",
      "karel-lgrl-ref-edit-m1-sgd-cl1-lr0.1-lds100k-ldr0.5 0,0,1 step 400100: 0.1180 (of 2500)\n",
      "karel-lgrl-ref-edit-m1-sgd-cl1-lr0.1-lds100k-ldr0.5 0,0,1 step 436300: 0.1172 (of 2500)\n",
      "karel-lgrl-ref-edit-m1-sgd-cl1-lr0.1-lds100k-ldr0.5 0,0,1 step 50100: 0.1324 (of 2500)\n",
      "karel-lgrl-ref-edit-m1-sgd-cl1-lr0.1-lds100k-ldr0.5 0,1 step 100100: 0.2484 (of 2500)\n",
      "karel-lgrl-ref-edit-m1-sgd-cl1-lr0.1-lds100k-ldr0.5 0,1 step 150100: 0.2356 (of 2500)\n",
      "karel-lgrl-ref-edit-m1-sgd-cl1-lr0.1-lds100k-ldr0.5 0,1 step 200100: 0.2352 (of 2500)\n",
      "karel-lgrl-ref-edit-m1-sgd-cl1-lr0.1-lds100k-ldr0.5 0,1 step 250100: 0.2384 (of 2500)\n",
      "karel-lgrl-ref-edit-m1-sgd-cl1-lr0.1-lds100k-ldr0.5 0,1 step 300100: 0.2364 (of 2500)\n",
      "karel-lgrl-ref-edit-m1-sgd-cl1-lr0.1-lds100k-ldr0.5 0,1 step 350100: 0.2372 (of 2500)\n",
      "karel-lgrl-ref-edit-m1-sgd-cl1-lr0.1-lds100k-ldr0.5 0,1 step 400100: 0.2424 (of 2500)\n",
      "karel-lgrl-ref-edit-m1-sgd-cl1-lr0.1-lds100k-ldr0.5 0,1 step 436300: 0.2404 (of 2500)\n",
      "karel-lgrl-ref-edit-m1-sgd-cl1-lr0.1-lds100k-ldr0.5 0,1 step 50100: 0.2528 (of 2500)\n",
      "karel-lgrl-ref-edit-m1-sgd-cl1-lr0.1-lds100k-ldr0.5 1 step 100100: 0.9816 (of 2500)\n",
      "karel-lgrl-ref-edit-m1-sgd-cl1-lr0.1-lds100k-ldr0.5 1 step 150100: 0.9772 (of 2500)\n",
      "karel-lgrl-ref-edit-m1-sgd-cl1-lr0.1-lds100k-ldr0.5 1 step 200100: 0.9768 (of 2500)\n",
      "karel-lgrl-ref-edit-m1-sgd-cl1-lr0.1-lds100k-ldr0.5 1 step 250100: 0.9800 (of 2500)\n",
      "karel-lgrl-ref-edit-m1-sgd-cl1-lr0.1-lds100k-ldr0.5 1 step 300100: 0.9756 (of 2500)\n",
      "karel-lgrl-ref-edit-m1-sgd-cl1-lr0.1-lds100k-ldr0.5 1 step 350100: 0.9768 (of 2500)\n",
      "karel-lgrl-ref-edit-m1-sgd-cl1-lr0.1-lds100k-ldr0.5 1 step 400100: 0.9792 (of 2500)\n",
      "karel-lgrl-ref-edit-m1-sgd-cl1-lr0.1-lds100k-ldr0.5 1 step 436300: 0.9792 (of 2500)\n",
      "karel-lgrl-ref-edit-m1-sgd-cl1-lr0.1-lds100k-ldr0.5 1 step 50100: 0.9756 (of 2500)\n",
      "karel-lgrl-ref-edit-m12-sgd-cl1-lr0.1-lds100k-ldr0.5 0,0,1 step 100100: 0.6660 (of 2500)\n",
      "karel-lgrl-ref-edit-m12-sgd-cl1-lr0.1-lds100k-ldr0.5 0,0,1 step 150100: 0.6036 (of 2500)\n",
      "karel-lgrl-ref-edit-m12-sgd-cl1-lr0.1-lds100k-ldr0.5 0,0,1 step 200100: 0.6196 (of 2500)\n",
      "karel-lgrl-ref-edit-m12-sgd-cl1-lr0.1-lds100k-ldr0.5 0,0,1 step 250100: 0.5980 (of 2500)\n",
      "karel-lgrl-ref-edit-m12-sgd-cl1-lr0.1-lds100k-ldr0.5 0,0,1 step 300100: 0.5684 (of 2500)\n",
      "karel-lgrl-ref-edit-m12-sgd-cl1-lr0.1-lds100k-ldr0.5 0,0,1 step 350100: 0.5424 (of 2500)\n",
      "karel-lgrl-ref-edit-m12-sgd-cl1-lr0.1-lds100k-ldr0.5 0,0,1 step 400100: 0.5871 (of 448)\n",
      "karel-lgrl-ref-edit-m12-sgd-cl1-lr0.1-lds100k-ldr0.5 0,0,1 step 436300: 0.5624 (of 2500)\n",
      "karel-lgrl-ref-edit-m12-sgd-cl1-lr0.1-lds100k-ldr0.5 0,0,1 step 50100: 0.5168 (of 2500)\n",
      "karel-lgrl-ref-edit-m12-sgd-cl1-lr0.1-lds100k-ldr0.5 0,1 step 100100: 0.9036 (of 2500)\n",
      "karel-lgrl-ref-edit-m12-sgd-cl1-lr0.1-lds100k-ldr0.5 0,1 step 150100: 0.8964 (of 2500)\n",
      "karel-lgrl-ref-edit-m12-sgd-cl1-lr0.1-lds100k-ldr0.5 0,1 step 200100: 0.8932 (of 2500)\n",
      "karel-lgrl-ref-edit-m12-sgd-cl1-lr0.1-lds100k-ldr0.5 0,1 step 250100: 0.8880 (of 2500)\n",
      "karel-lgrl-ref-edit-m12-sgd-cl1-lr0.1-lds100k-ldr0.5 0,1 step 300100: 0.8780 (of 2500)\n",
      "karel-lgrl-ref-edit-m12-sgd-cl1-lr0.1-lds100k-ldr0.5 0,1 step 350100: 0.8632 (of 2500)\n",
      "karel-lgrl-ref-edit-m12-sgd-cl1-lr0.1-lds100k-ldr0.5 0,1 step 400100: 0.8736 (of 2500)\n",
      "karel-lgrl-ref-edit-m12-sgd-cl1-lr0.1-lds100k-ldr0.5 0,1 step 436300: 0.8796 (of 2500)\n",
      "karel-lgrl-ref-edit-m12-sgd-cl1-lr0.1-lds100k-ldr0.5 0,1 step 50100: 0.8592 (of 2500)\n",
      "karel-lgrl-ref-edit-m12-sgd-cl1-lr0.1-lds100k-ldr0.5 1 step 100100: 0.9632 (of 2500)\n",
      "karel-lgrl-ref-edit-m12-sgd-cl1-lr0.1-lds100k-ldr0.5 1 step 150100: 0.9564 (of 2500)\n",
      "karel-lgrl-ref-edit-m12-sgd-cl1-lr0.1-lds100k-ldr0.5 1 step 200100: 0.9500 (of 2500)\n",
      "karel-lgrl-ref-edit-m12-sgd-cl1-lr0.1-lds100k-ldr0.5 1 step 250100: 0.9440 (of 2500)\n",
      "karel-lgrl-ref-edit-m12-sgd-cl1-lr0.1-lds100k-ldr0.5 1 step 300100: 0.9452 (of 2500)\n",
      "karel-lgrl-ref-edit-m12-sgd-cl1-lr0.1-lds100k-ldr0.5 1 step 350100: 0.9364 (of 2500)\n",
      "karel-lgrl-ref-edit-m12-sgd-cl1-lr0.1-lds100k-ldr0.5 1 step 400100: 0.9408 (of 2500)\n",
      "karel-lgrl-ref-edit-m12-sgd-cl1-lr0.1-lds100k-ldr0.5 1 step 436300: 0.9420 (of 2500)\n",
      "karel-lgrl-ref-edit-m12-sgd-cl1-lr0.1-lds100k-ldr0.5 1 step 50100: 0.9564 (of 2500)\n",
      "karel-lgrl-ref-edit-m123-sgd-cl1-lr0.1-lds100k-ldr0.5 0,0,1 step 100100: 0.8596 (of 2500)\n",
      "karel-lgrl-ref-edit-m123-sgd-cl1-lr0.1-lds100k-ldr0.5 0,0,1 step 150100: 0.8744 (of 2500)\n",
      "karel-lgrl-ref-edit-m123-sgd-cl1-lr0.1-lds100k-ldr0.5 0,0,1 step 200100: 0.8884 (of 2500)\n",
      "karel-lgrl-ref-edit-m123-sgd-cl1-lr0.1-lds100k-ldr0.5 0,0,1 step 250100: 0.8928 (of 2500)\n",
      "karel-lgrl-ref-edit-m123-sgd-cl1-lr0.1-lds100k-ldr0.5 0,0,1 step 300100: 0.8944 (of 2500)\n",
      "karel-lgrl-ref-edit-m123-sgd-cl1-lr0.1-lds100k-ldr0.5 0,0,1 step 350100: 0.9040 (of 2500)\n",
      "karel-lgrl-ref-edit-m123-sgd-cl1-lr0.1-lds100k-ldr0.5 0,0,1 step 400100: 0.9032 (of 2500)\n",
      "karel-lgrl-ref-edit-m123-sgd-cl1-lr0.1-lds100k-ldr0.5 0,0,1 step 436300: 0.9016 (of 2500)\n",
      "karel-lgrl-ref-edit-m123-sgd-cl1-lr0.1-lds100k-ldr0.5 0,0,1 step 50100: 0.7872 (of 2500)\n",
      "karel-lgrl-ref-edit-m123-sgd-cl1-lr0.1-lds100k-ldr0.5 0,1 step 100100: 0.9288 (of 2500)\n",
      "karel-lgrl-ref-edit-m123-sgd-cl1-lr0.1-lds100k-ldr0.5 0,1 step 150100: 0.9348 (of 2500)\n",
      "karel-lgrl-ref-edit-m123-sgd-cl1-lr0.1-lds100k-ldr0.5 0,1 step 200100: 0.9396 (of 2500)\n",
      "karel-lgrl-ref-edit-m123-sgd-cl1-lr0.1-lds100k-ldr0.5 0,1 step 250100: 0.9448 (of 2500)\n",
      "karel-lgrl-ref-edit-m123-sgd-cl1-lr0.1-lds100k-ldr0.5 0,1 step 300100: 0.9488 (of 2500)\n",
      "karel-lgrl-ref-edit-m123-sgd-cl1-lr0.1-lds100k-ldr0.5 0,1 step 350100: 0.9480 (of 2500)\n",
      "karel-lgrl-ref-edit-m123-sgd-cl1-lr0.1-lds100k-ldr0.5 0,1 step 400100: 0.9504 (of 2500)\n",
      "karel-lgrl-ref-edit-m123-sgd-cl1-lr0.1-lds100k-ldr0.5 0,1 step 436300: 0.9504 (of 2500)\n",
      "karel-lgrl-ref-edit-m123-sgd-cl1-lr0.1-lds100k-ldr0.5 0,1 step 50100: 0.8716 (of 2500)\n",
      "karel-lgrl-ref-edit-m123-sgd-cl1-lr0.1-lds100k-ldr0.5 1 step 100100: 0.9692 (of 2500)\n",
      "karel-lgrl-ref-edit-m123-sgd-cl1-lr0.1-lds100k-ldr0.5 1 step 150100: 0.9732 (of 2500)\n",
      "karel-lgrl-ref-edit-m123-sgd-cl1-lr0.1-lds100k-ldr0.5 1 step 200100: 0.9740 (of 2500)\n",
      "karel-lgrl-ref-edit-m123-sgd-cl1-lr0.1-lds100k-ldr0.5 1 step 250100: 0.9736 (of 2500)\n",
      "karel-lgrl-ref-edit-m123-sgd-cl1-lr0.1-lds100k-ldr0.5 1 step 300100: 0.9728 (of 2500)\n",
      "karel-lgrl-ref-edit-m123-sgd-cl1-lr0.1-lds100k-ldr0.5 1 step 350100: 0.9740 (of 2500)\n",
      "karel-lgrl-ref-edit-m123-sgd-cl1-lr0.1-lds100k-ldr0.5 1 step 400100: 0.9764 (of 2500)\n",
      "karel-lgrl-ref-edit-m123-sgd-cl1-lr0.1-lds100k-ldr0.5 1 step 436300: 0.9736 (of 2500)\n",
      "karel-lgrl-ref-edit-m123-sgd-cl1-lr0.1-lds100k-ldr0.5 1 step 50100: 0.9372 (of 2500)\n",
      "karel-lgrl-ref-edit-state-mem-m123-sgd-cl1-lr0.1-lds100k-ldr0.5 0,0,1 step 100100: 0.6592 (of 2500)\n",
      "karel-lgrl-ref-edit-state-mem-m123-sgd-cl1-lr0.1-lds100k-ldr0.5 0,0,1 step 150100: 0.6620 (of 2500)\n",
      "karel-lgrl-ref-edit-state-mem-m123-sgd-cl1-lr0.1-lds100k-ldr0.5 0,0,1 step 200100: 0.6876 (of 2500)\n",
      "karel-lgrl-ref-edit-state-mem-m123-sgd-cl1-lr0.1-lds100k-ldr0.5 0,0,1 step 250100: 0.7012 (of 2500)\n",
      "karel-lgrl-ref-edit-state-mem-m123-sgd-cl1-lr0.1-lds100k-ldr0.5 0,0,1 step 300100: 0.7004 (of 2500)\n",
      "karel-lgrl-ref-edit-state-mem-m123-sgd-cl1-lr0.1-lds100k-ldr0.5 0,0,1 step 350100: 0.7016 (of 2500)\n",
      "karel-lgrl-ref-edit-state-mem-m123-sgd-cl1-lr0.1-lds100k-ldr0.5 0,0,1 step 400100: 0.6956 (of 2500)\n",
      "karel-lgrl-ref-edit-state-mem-m123-sgd-cl1-lr0.1-lds100k-ldr0.5 0,0,1 step 436300: 0.7044 (of 2500)\n",
      "karel-lgrl-ref-edit-state-mem-m123-sgd-cl1-lr0.1-lds100k-ldr0.5 0,0,1 step 50100: 0.5688 (of 2500)\n",
      "karel-lgrl-ref-edit-state-mem-m123-sgd-cl1-lr0.1-lds100k-ldr0.5 0,1 step 100100: 0.7428 (of 2500)\n",
      "karel-lgrl-ref-edit-state-mem-m123-sgd-cl1-lr0.1-lds100k-ldr0.5 0,1 step 150100: 0.7644 (of 2500)\n",
      "karel-lgrl-ref-edit-state-mem-m123-sgd-cl1-lr0.1-lds100k-ldr0.5 0,1 step 200100: 0.7832 (of 2500)\n",
      "karel-lgrl-ref-edit-state-mem-m123-sgd-cl1-lr0.1-lds100k-ldr0.5 0,1 step 250100: 0.7884 (of 2500)\n",
      "karel-lgrl-ref-edit-state-mem-m123-sgd-cl1-lr0.1-lds100k-ldr0.5 0,1 step 300100: 0.7908 (of 2500)\n",
      "karel-lgrl-ref-edit-state-mem-m123-sgd-cl1-lr0.1-lds100k-ldr0.5 0,1 step 350100: 0.7892 (of 2500)\n",
      "karel-lgrl-ref-edit-state-mem-m123-sgd-cl1-lr0.1-lds100k-ldr0.5 0,1 step 400100: 0.7892 (of 2500)\n",
      "karel-lgrl-ref-edit-state-mem-m123-sgd-cl1-lr0.1-lds100k-ldr0.5 0,1 step 436300: 0.7884 (of 2500)\n",
      "karel-lgrl-ref-edit-state-mem-m123-sgd-cl1-lr0.1-lds100k-ldr0.5 0,1 step 50100: 0.6708 (of 2500)\n",
      "karel-lgrl-ref-edit-state-mem-m123-sgd-cl1-lr0.1-lds100k-ldr0.5 1 step 100100: 0.8220 (of 2500)\n",
      "karel-lgrl-ref-edit-state-mem-m123-sgd-cl1-lr0.1-lds100k-ldr0.5 1 step 150100: 0.8324 (of 2500)\n",
      "karel-lgrl-ref-edit-state-mem-m123-sgd-cl1-lr0.1-lds100k-ldr0.5 1 step 200100: 0.8388 (of 2500)\n",
      "karel-lgrl-ref-edit-state-mem-m123-sgd-cl1-lr0.1-lds100k-ldr0.5 1 step 250100: 0.8496 (of 2500)\n",
      "karel-lgrl-ref-edit-state-mem-m123-sgd-cl1-lr0.1-lds100k-ldr0.5 1 step 300100: 0.8464 (of 2500)\n",
      "karel-lgrl-ref-edit-state-mem-m123-sgd-cl1-lr0.1-lds100k-ldr0.5 1 step 350100: 0.8472 (of 2500)\n",
      "karel-lgrl-ref-edit-state-mem-m123-sgd-cl1-lr0.1-lds100k-ldr0.5 1 step 400100: 0.8404 (of 2500)\n",
      "karel-lgrl-ref-edit-state-mem-m123-sgd-cl1-lr0.1-lds100k-ldr0.5 1 step 436300: 0.8408 (of 2500)\n",
      "karel-lgrl-ref-edit-state-mem-m123-sgd-cl1-lr0.1-lds100k-ldr0.5 1 step 50100: 0.7824 (of 2500)\n"
     ]
    }
   ],
   "source": [
    "model_best = collections.defaultdict(lambda: (0.0, 0))\n",
    "for fn in sorted(glob.glob('logdirs/20180207/*/report-dev-*.jsonl')):\n",
    "    result = json.loads(next(iter(open(fn))))\n",
    "    dist, step = re.search(r'report-dev-m(.*)-(\\d+).jsonl', fn).groups()\n",
    "    step = int(step)\n",
    "    model_name = os.path.basename(os.path.dirname(fn))\n",
    "    accuracy = result['correct'] / float(result['total'])\n",
    "    print '{} {} step {}: {:.4f} (of {})'.format(model_name, dist, step, accuracy, result['total'])\n",
    "    model_best[model_name, dist] = max(model_best[model_name, dist], (accuracy, -step))"
   ]
  },
  {
   "cell_type": "code",
   "execution_count": 20,
   "metadata": {
    "collapsed": true
   },
   "outputs": [
    {
     "data": {
      "text/plain": [
       "defaultdict(<function __main__.<lambda>>,\n",
       "            {('karel-lgrl-ref-edit-m1-sgd-cl1-lr0.1-lds100k-ldr0.5',\n",
       "              '0,0,1'): (0.1324, -50100),\n",
       "             ('karel-lgrl-ref-edit-m1-sgd-cl1-lr0.1-lds100k-ldr0.5',\n",
       "              '0,1'): (0.2528, -50100),\n",
       "             ('karel-lgrl-ref-edit-m1-sgd-cl1-lr0.1-lds100k-ldr0.5',\n",
       "              '1'): (0.9816, -100100),\n",
       "             ('karel-lgrl-ref-edit-m12-sgd-cl1-lr0.1-lds100k-ldr0.5',\n",
       "              '0,0,1'): (0.666, -100100),\n",
       "             ('karel-lgrl-ref-edit-m12-sgd-cl1-lr0.1-lds100k-ldr0.5',\n",
       "              '0,1'): (0.9036, -100100),\n",
       "             ('karel-lgrl-ref-edit-m12-sgd-cl1-lr0.1-lds100k-ldr0.5',\n",
       "              '1'): (0.9632, -100100),\n",
       "             ('karel-lgrl-ref-edit-m123-sgd-cl1-lr0.1-lds100k-ldr0.5',\n",
       "              '0,0,1'): (0.904, -350100),\n",
       "             ('karel-lgrl-ref-edit-m123-sgd-cl1-lr0.1-lds100k-ldr0.5',\n",
       "              '0,1'): (0.9504, -400100),\n",
       "             ('karel-lgrl-ref-edit-m123-sgd-cl1-lr0.1-lds100k-ldr0.5',\n",
       "              '1'): (0.9764, -400100),\n",
       "             ('karel-lgrl-ref-edit-state-mem-m123-sgd-cl1-lr0.1-lds100k-ldr0.5',\n",
       "              '0,0,1'): (0.7044, -436300),\n",
       "             ('karel-lgrl-ref-edit-state-mem-m123-sgd-cl1-lr0.1-lds100k-ldr0.5',\n",
       "              '0,1'): (0.7908, -300100),\n",
       "             ('karel-lgrl-ref-edit-state-mem-m123-sgd-cl1-lr0.1-lds100k-ldr0.5',\n",
       "              '1'): (0.8496, -250100)})"
      ]
     },
     "execution_count": 20,
     "metadata": {},
     "output_type": "execute_result"
    }
   ],
   "source": [
    "model_best"
   ]
  },
  {
   "cell_type": "code",
   "execution_count": 21,
   "metadata": {},
   "outputs": [
    {
     "name": "stdout",
     "output_type": "stream",
     "text": [
      "karel-lgrl-ref-edit-m1-sgd-cl1-lr0.1-lds100k-ldr0.5 0,0,1 step 100100: 0.0672 (of 2500)\n",
      "karel-lgrl-ref-edit-m1-sgd-cl1-lr0.1-lds100k-ldr0.5 0,0,1 step 150100: 0.0640 (of 2500)\n",
      "karel-lgrl-ref-edit-m1-sgd-cl1-lr0.1-lds100k-ldr0.5 0,0,1 step 200100: 0.0632 (of 2500)\n",
      "karel-lgrl-ref-edit-m1-sgd-cl1-lr0.1-lds100k-ldr0.5 0,0,1 step 250100: 0.0612 (of 2500)\n",
      "karel-lgrl-ref-edit-m1-sgd-cl1-lr0.1-lds100k-ldr0.5 0,0,1 step 300100: 0.0656 (of 2500)\n",
      "karel-lgrl-ref-edit-m1-sgd-cl1-lr0.1-lds100k-ldr0.5 0,0,1 step 350100: 0.0616 (of 2500)\n",
      "karel-lgrl-ref-edit-m1-sgd-cl1-lr0.1-lds100k-ldr0.5 0,0,1 step 400100: 0.0632 (of 2500)\n",
      "karel-lgrl-ref-edit-m1-sgd-cl1-lr0.1-lds100k-ldr0.5 0,0,1 step 436300: 0.0620 (of 2500)\n",
      "karel-lgrl-ref-edit-m1-sgd-cl1-lr0.1-lds100k-ldr0.5 0,0,1 step 50100: 0.0524 (of 2500)\n",
      "karel-lgrl-ref-edit-m1-sgd-cl1-lr0.1-lds100k-ldr0.5 0,1 step 100100: 0.1352 (of 2500)\n",
      "karel-lgrl-ref-edit-m1-sgd-cl1-lr0.1-lds100k-ldr0.5 0,1 step 150100: 0.1312 (of 2500)\n",
      "karel-lgrl-ref-edit-m1-sgd-cl1-lr0.1-lds100k-ldr0.5 0,1 step 200100: 0.1312 (of 2500)\n",
      "karel-lgrl-ref-edit-m1-sgd-cl1-lr0.1-lds100k-ldr0.5 0,1 step 250100: 0.1344 (of 2500)\n",
      "karel-lgrl-ref-edit-m1-sgd-cl1-lr0.1-lds100k-ldr0.5 0,1 step 300100: 0.1352 (of 2500)\n",
      "karel-lgrl-ref-edit-m1-sgd-cl1-lr0.1-lds100k-ldr0.5 0,1 step 350100: 0.1400 (of 2500)\n",
      "karel-lgrl-ref-edit-m1-sgd-cl1-lr0.1-lds100k-ldr0.5 0,1 step 400100: 0.1372 (of 2500)\n",
      "karel-lgrl-ref-edit-m1-sgd-cl1-lr0.1-lds100k-ldr0.5 0,1 step 436300: 0.1384 (of 2500)\n",
      "karel-lgrl-ref-edit-m1-sgd-cl1-lr0.1-lds100k-ldr0.5 0,1 step 50100: 0.1116 (of 2500)\n",
      "karel-lgrl-ref-edit-m1-sgd-cl1-lr0.1-lds100k-ldr0.5 1 step 100100: 0.7416 (of 2500)\n",
      "karel-lgrl-ref-edit-m1-sgd-cl1-lr0.1-lds100k-ldr0.5 1 step 150100: 0.7144 (of 2500)\n",
      "karel-lgrl-ref-edit-m1-sgd-cl1-lr0.1-lds100k-ldr0.5 1 step 200100: 0.7144 (of 2500)\n",
      "karel-lgrl-ref-edit-m1-sgd-cl1-lr0.1-lds100k-ldr0.5 1 step 250100: 0.7272 (of 2500)\n",
      "karel-lgrl-ref-edit-m1-sgd-cl1-lr0.1-lds100k-ldr0.5 1 step 300100: 0.7296 (of 2500)\n",
      "karel-lgrl-ref-edit-m1-sgd-cl1-lr0.1-lds100k-ldr0.5 1 step 350100: 0.7272 (of 2500)\n",
      "karel-lgrl-ref-edit-m1-sgd-cl1-lr0.1-lds100k-ldr0.5 1 step 400100: 0.7352 (of 2500)\n",
      "karel-lgrl-ref-edit-m1-sgd-cl1-lr0.1-lds100k-ldr0.5 1 step 436300: 0.7244 (of 2500)\n",
      "karel-lgrl-ref-edit-m1-sgd-cl1-lr0.1-lds100k-ldr0.5 1 step 50100: 0.6004 (of 2500)\n",
      "karel-lgrl-ref-edit-m12-sgd-cl1-lr0.1-lds100k-ldr0.5 0,0,1 step 100100: 0.2444 (of 2500)\n",
      "karel-lgrl-ref-edit-m12-sgd-cl1-lr0.1-lds100k-ldr0.5 0,0,1 step 150100: 0.2172 (of 2500)\n",
      "karel-lgrl-ref-edit-m12-sgd-cl1-lr0.1-lds100k-ldr0.5 0,0,1 step 200100: 0.2272 (of 2500)\n",
      "karel-lgrl-ref-edit-m12-sgd-cl1-lr0.1-lds100k-ldr0.5 0,0,1 step 250100: 0.2004 (of 2500)\n",
      "karel-lgrl-ref-edit-m12-sgd-cl1-lr0.1-lds100k-ldr0.5 0,0,1 step 300100: 0.1864 (of 2500)\n",
      "karel-lgrl-ref-edit-m12-sgd-cl1-lr0.1-lds100k-ldr0.5 0,0,1 step 350100: 0.1680 (of 2500)\n",
      "karel-lgrl-ref-edit-m12-sgd-cl1-lr0.1-lds100k-ldr0.5 0,0,1 step 400100: 0.1808 (of 448)\n",
      "karel-lgrl-ref-edit-m12-sgd-cl1-lr0.1-lds100k-ldr0.5 0,0,1 step 436300: 0.1820 (of 2500)\n",
      "karel-lgrl-ref-edit-m12-sgd-cl1-lr0.1-lds100k-ldr0.5 0,0,1 step 50100: 0.1452 (of 2500)\n",
      "karel-lgrl-ref-edit-m12-sgd-cl1-lr0.1-lds100k-ldr0.5 0,1 step 100100: 0.4788 (of 2500)\n",
      "karel-lgrl-ref-edit-m12-sgd-cl1-lr0.1-lds100k-ldr0.5 0,1 step 150100: 0.4628 (of 2500)\n",
      "karel-lgrl-ref-edit-m12-sgd-cl1-lr0.1-lds100k-ldr0.5 0,1 step 200100: 0.4640 (of 2500)\n",
      "karel-lgrl-ref-edit-m12-sgd-cl1-lr0.1-lds100k-ldr0.5 0,1 step 250100: 0.4224 (of 2500)\n",
      "karel-lgrl-ref-edit-m12-sgd-cl1-lr0.1-lds100k-ldr0.5 0,1 step 300100: 0.3844 (of 2500)\n",
      "karel-lgrl-ref-edit-m12-sgd-cl1-lr0.1-lds100k-ldr0.5 0,1 step 350100: 0.3348 (of 2500)\n",
      "karel-lgrl-ref-edit-m12-sgd-cl1-lr0.1-lds100k-ldr0.5 0,1 step 400100: 0.3780 (of 2500)\n",
      "karel-lgrl-ref-edit-m12-sgd-cl1-lr0.1-lds100k-ldr0.5 0,1 step 436300: 0.3844 (of 2500)\n",
      "karel-lgrl-ref-edit-m12-sgd-cl1-lr0.1-lds100k-ldr0.5 0,1 step 50100: 0.3512 (of 2500)\n",
      "karel-lgrl-ref-edit-m12-sgd-cl1-lr0.1-lds100k-ldr0.5 1 step 100100: 0.6572 (of 2500)\n",
      "karel-lgrl-ref-edit-m12-sgd-cl1-lr0.1-lds100k-ldr0.5 1 step 150100: 0.5948 (of 2500)\n",
      "karel-lgrl-ref-edit-m12-sgd-cl1-lr0.1-lds100k-ldr0.5 1 step 200100: 0.5456 (of 2500)\n",
      "karel-lgrl-ref-edit-m12-sgd-cl1-lr0.1-lds100k-ldr0.5 1 step 250100: 0.4820 (of 2500)\n",
      "karel-lgrl-ref-edit-m12-sgd-cl1-lr0.1-lds100k-ldr0.5 1 step 300100: 0.4472 (of 2500)\n",
      "karel-lgrl-ref-edit-m12-sgd-cl1-lr0.1-lds100k-ldr0.5 1 step 350100: 0.3884 (of 2500)\n",
      "karel-lgrl-ref-edit-m12-sgd-cl1-lr0.1-lds100k-ldr0.5 1 step 400100: 0.4212 (of 2500)\n",
      "karel-lgrl-ref-edit-m12-sgd-cl1-lr0.1-lds100k-ldr0.5 1 step 436300: 0.4340 (of 2500)\n",
      "karel-lgrl-ref-edit-m12-sgd-cl1-lr0.1-lds100k-ldr0.5 1 step 50100: 0.5668 (of 2500)\n",
      "karel-lgrl-ref-edit-m123-sgd-cl1-lr0.1-lds100k-ldr0.5 0,0,1 step 100100: 0.4976 (of 2500)\n",
      "karel-lgrl-ref-edit-m123-sgd-cl1-lr0.1-lds100k-ldr0.5 0,0,1 step 150100: 0.5244 (of 2500)\n",
      "karel-lgrl-ref-edit-m123-sgd-cl1-lr0.1-lds100k-ldr0.5 0,0,1 step 200100: 0.5640 (of 2500)\n",
      "karel-lgrl-ref-edit-m123-sgd-cl1-lr0.1-lds100k-ldr0.5 0,0,1 step 250100: 0.5816 (of 2500)\n",
      "karel-lgrl-ref-edit-m123-sgd-cl1-lr0.1-lds100k-ldr0.5 0,0,1 step 300100: 0.5948 (of 2500)\n",
      "karel-lgrl-ref-edit-m123-sgd-cl1-lr0.1-lds100k-ldr0.5 0,0,1 step 350100: 0.5992 (of 2500)\n",
      "karel-lgrl-ref-edit-m123-sgd-cl1-lr0.1-lds100k-ldr0.5 0,0,1 step 400100: 0.6096 (of 2500)\n",
      "karel-lgrl-ref-edit-m123-sgd-cl1-lr0.1-lds100k-ldr0.5 0,0,1 step 436300: 0.6052 (of 2500)\n",
      "karel-lgrl-ref-edit-m123-sgd-cl1-lr0.1-lds100k-ldr0.5 0,0,1 step 50100: 0.3448 (of 2500)\n",
      "karel-lgrl-ref-edit-m123-sgd-cl1-lr0.1-lds100k-ldr0.5 0,1 step 100100: 0.6036 (of 2500)\n",
      "karel-lgrl-ref-edit-m123-sgd-cl1-lr0.1-lds100k-ldr0.5 0,1 step 150100: 0.6232 (of 2500)\n",
      "karel-lgrl-ref-edit-m123-sgd-cl1-lr0.1-lds100k-ldr0.5 0,1 step 200100: 0.6536 (of 2500)\n",
      "karel-lgrl-ref-edit-m123-sgd-cl1-lr0.1-lds100k-ldr0.5 0,1 step 250100: 0.6656 (of 2500)\n",
      "karel-lgrl-ref-edit-m123-sgd-cl1-lr0.1-lds100k-ldr0.5 0,1 step 300100: 0.6732 (of 2500)\n",
      "karel-lgrl-ref-edit-m123-sgd-cl1-lr0.1-lds100k-ldr0.5 0,1 step 350100: 0.6828 (of 2500)\n",
      "karel-lgrl-ref-edit-m123-sgd-cl1-lr0.1-lds100k-ldr0.5 0,1 step 400100: 0.6848 (of 2500)\n",
      "karel-lgrl-ref-edit-m123-sgd-cl1-lr0.1-lds100k-ldr0.5 0,1 step 436300: 0.6852 (of 2500)\n",
      "karel-lgrl-ref-edit-m123-sgd-cl1-lr0.1-lds100k-ldr0.5 0,1 step 50100: 0.4400 (of 2500)\n",
      "karel-lgrl-ref-edit-m123-sgd-cl1-lr0.1-lds100k-ldr0.5 1 step 100100: 0.7388 (of 2500)\n",
      "karel-lgrl-ref-edit-m123-sgd-cl1-lr0.1-lds100k-ldr0.5 1 step 150100: 0.7580 (of 2500)\n",
      "karel-lgrl-ref-edit-m123-sgd-cl1-lr0.1-lds100k-ldr0.5 1 step 200100: 0.7652 (of 2500)\n",
      "karel-lgrl-ref-edit-m123-sgd-cl1-lr0.1-lds100k-ldr0.5 1 step 250100: 0.7812 (of 2500)\n",
      "karel-lgrl-ref-edit-m123-sgd-cl1-lr0.1-lds100k-ldr0.5 1 step 300100: 0.7772 (of 2500)\n",
      "karel-lgrl-ref-edit-m123-sgd-cl1-lr0.1-lds100k-ldr0.5 1 step 350100: 0.7916 (of 2500)\n",
      "karel-lgrl-ref-edit-m123-sgd-cl1-lr0.1-lds100k-ldr0.5 1 step 400100: 0.7944 (of 2500)\n",
      "karel-lgrl-ref-edit-m123-sgd-cl1-lr0.1-lds100k-ldr0.5 1 step 436300: 0.7900 (of 2500)\n",
      "karel-lgrl-ref-edit-m123-sgd-cl1-lr0.1-lds100k-ldr0.5 1 step 50100: 0.5796 (of 2500)\n",
      "karel-lgrl-ref-edit-state-mem-m123-sgd-cl1-lr0.1-lds100k-ldr0.5 0,0,1 step 100100: 0.2772 (of 2500)\n",
      "karel-lgrl-ref-edit-state-mem-m123-sgd-cl1-lr0.1-lds100k-ldr0.5 0,0,1 step 150100: 0.2796 (of 2500)\n",
      "karel-lgrl-ref-edit-state-mem-m123-sgd-cl1-lr0.1-lds100k-ldr0.5 0,0,1 step 200100: 0.2936 (of 2500)\n",
      "karel-lgrl-ref-edit-state-mem-m123-sgd-cl1-lr0.1-lds100k-ldr0.5 0,0,1 step 250100: 0.2960 (of 2500)\n",
      "karel-lgrl-ref-edit-state-mem-m123-sgd-cl1-lr0.1-lds100k-ldr0.5 0,0,1 step 300100: 0.3044 (of 2500)\n",
      "karel-lgrl-ref-edit-state-mem-m123-sgd-cl1-lr0.1-lds100k-ldr0.5 0,0,1 step 350100: 0.3036 (of 2500)\n",
      "karel-lgrl-ref-edit-state-mem-m123-sgd-cl1-lr0.1-lds100k-ldr0.5 0,0,1 step 400100: 0.2980 (of 2500)\n",
      "karel-lgrl-ref-edit-state-mem-m123-sgd-cl1-lr0.1-lds100k-ldr0.5 0,0,1 step 436300: 0.3076 (of 2500)\n",
      "karel-lgrl-ref-edit-state-mem-m123-sgd-cl1-lr0.1-lds100k-ldr0.5 0,0,1 step 50100: 0.1780 (of 2500)\n",
      "karel-lgrl-ref-edit-state-mem-m123-sgd-cl1-lr0.1-lds100k-ldr0.5 0,1 step 100100: 0.3504 (of 2500)\n",
      "karel-lgrl-ref-edit-state-mem-m123-sgd-cl1-lr0.1-lds100k-ldr0.5 0,1 step 150100: 0.3664 (of 2500)\n",
      "karel-lgrl-ref-edit-state-mem-m123-sgd-cl1-lr0.1-lds100k-ldr0.5 0,1 step 200100: 0.3896 (of 2500)\n"
     ]
    },
    {
     "name": "stdout",
     "output_type": "stream",
     "text": [
      "karel-lgrl-ref-edit-state-mem-m123-sgd-cl1-lr0.1-lds100k-ldr0.5 0,1 step 250100: 0.3972 (of 2500)\n",
      "karel-lgrl-ref-edit-state-mem-m123-sgd-cl1-lr0.1-lds100k-ldr0.5 0,1 step 300100: 0.3956 (of 2500)\n",
      "karel-lgrl-ref-edit-state-mem-m123-sgd-cl1-lr0.1-lds100k-ldr0.5 0,1 step 350100: 0.4040 (of 2500)\n",
      "karel-lgrl-ref-edit-state-mem-m123-sgd-cl1-lr0.1-lds100k-ldr0.5 0,1 step 400100: 0.4008 (of 2500)\n",
      "karel-lgrl-ref-edit-state-mem-m123-sgd-cl1-lr0.1-lds100k-ldr0.5 0,1 step 436300: 0.4036 (of 2500)\n",
      "karel-lgrl-ref-edit-state-mem-m123-sgd-cl1-lr0.1-lds100k-ldr0.5 0,1 step 50100: 0.2484 (of 2500)\n",
      "karel-lgrl-ref-edit-state-mem-m123-sgd-cl1-lr0.1-lds100k-ldr0.5 1 step 100100: 0.4200 (of 2500)\n",
      "karel-lgrl-ref-edit-state-mem-m123-sgd-cl1-lr0.1-lds100k-ldr0.5 1 step 150100: 0.4384 (of 2500)\n",
      "karel-lgrl-ref-edit-state-mem-m123-sgd-cl1-lr0.1-lds100k-ldr0.5 1 step 200100: 0.4652 (of 2500)\n",
      "karel-lgrl-ref-edit-state-mem-m123-sgd-cl1-lr0.1-lds100k-ldr0.5 1 step 250100: 0.4660 (of 2500)\n",
      "karel-lgrl-ref-edit-state-mem-m123-sgd-cl1-lr0.1-lds100k-ldr0.5 1 step 300100: 0.4704 (of 2500)\n",
      "karel-lgrl-ref-edit-state-mem-m123-sgd-cl1-lr0.1-lds100k-ldr0.5 1 step 350100: 0.4692 (of 2500)\n",
      "karel-lgrl-ref-edit-state-mem-m123-sgd-cl1-lr0.1-lds100k-ldr0.5 1 step 400100: 0.4660 (of 2500)\n",
      "karel-lgrl-ref-edit-state-mem-m123-sgd-cl1-lr0.1-lds100k-ldr0.5 1 step 436300: 0.4684 (of 2500)\n",
      "karel-lgrl-ref-edit-state-mem-m123-sgd-cl1-lr0.1-lds100k-ldr0.5 1 step 50100: 0.3424 (of 2500)\n"
     ]
    }
   ],
   "source": [
    "top1_model_best = collections.defaultdict(lambda: (0.0, 0))\n",
    "for fn in sorted(glob.glob('logdirs/20180207/*/exec-results-dev-*.pkl')):\n",
    "    dist, step = re.search(r'exec-results-dev-m(.*)-(\\d+).pkl', fn).groups()\n",
    "    step = int(step)\n",
    "    model_name = os.path.basename(os.path.dirname(fn))\n",
    "    exec_results = pickle.load(open(fn))\n",
    "    correct, total = test_top_n(exec_results, 1)\n",
    "    accuracy = correct / float(total)\n",
    "    print '{} {} step {}: {:.4f} (of {})'.format(model_name, dist, step, accuracy, total)\n",
    "    top1_model_best[model_name, dist] = max(top1_model_best[model_name, dist], (accuracy, -int(step)))"
   ]
  },
  {
   "cell_type": "code",
   "execution_count": 22,
   "metadata": {},
   "outputs": [
    {
     "data": {
      "text/plain": [
       "defaultdict(<function __main__.<lambda>>,\n",
       "            {('karel-lgrl-ref-edit-m1-sgd-cl1-lr0.1-lds100k-ldr0.5',\n",
       "              '0,0,1'): (0.0672, -100100),\n",
       "             ('karel-lgrl-ref-edit-m1-sgd-cl1-lr0.1-lds100k-ldr0.5',\n",
       "              '0,1'): (0.14, -350100),\n",
       "             ('karel-lgrl-ref-edit-m1-sgd-cl1-lr0.1-lds100k-ldr0.5',\n",
       "              '1'): (0.7416, -100100),\n",
       "             ('karel-lgrl-ref-edit-m12-sgd-cl1-lr0.1-lds100k-ldr0.5',\n",
       "              '0,0,1'): (0.2444, -100100),\n",
       "             ('karel-lgrl-ref-edit-m12-sgd-cl1-lr0.1-lds100k-ldr0.5',\n",
       "              '0,1'): (0.4788, -100100),\n",
       "             ('karel-lgrl-ref-edit-m12-sgd-cl1-lr0.1-lds100k-ldr0.5',\n",
       "              '1'): (0.6572, -100100),\n",
       "             ('karel-lgrl-ref-edit-m123-sgd-cl1-lr0.1-lds100k-ldr0.5',\n",
       "              '0,0,1'): (0.6096, -400100),\n",
       "             ('karel-lgrl-ref-edit-m123-sgd-cl1-lr0.1-lds100k-ldr0.5',\n",
       "              '0,1'): (0.6852, -436300),\n",
       "             ('karel-lgrl-ref-edit-m123-sgd-cl1-lr0.1-lds100k-ldr0.5',\n",
       "              '1'): (0.7944, -400100),\n",
       "             ('karel-lgrl-ref-edit-state-mem-m123-sgd-cl1-lr0.1-lds100k-ldr0.5',\n",
       "              '0,0,1'): (0.3076, -436300),\n",
       "             ('karel-lgrl-ref-edit-state-mem-m123-sgd-cl1-lr0.1-lds100k-ldr0.5',\n",
       "              '0,1'): (0.404, -350100),\n",
       "             ('karel-lgrl-ref-edit-state-mem-m123-sgd-cl1-lr0.1-lds100k-ldr0.5',\n",
       "              '1'): (0.4704, -300100)})"
      ]
     },
     "execution_count": 22,
     "metadata": {},
     "output_type": "execute_result"
    }
   ],
   "source": [
    "top1_model_best"
   ]
  },
  {
   "cell_type": "code",
   "execution_count": 23,
   "metadata": {},
   "outputs": [
    {
     "name": "stdout",
     "output_type": "stream",
     "text": [
      "karel-lgrl-ref-edit-m1-sgd-cl1-lr0.1-lds100k-ldr0.5 0,0,1 step 100100: 0.0672 (of 2500)\n",
      "karel-lgrl-ref-edit-m1-sgd-cl1-lr0.1-lds100k-ldr0.5 0,0,1 step 150100: 0.0640 (of 2500)\n",
      "karel-lgrl-ref-edit-m1-sgd-cl1-lr0.1-lds100k-ldr0.5 0,0,1 step 200100: 0.0632 (of 2500)\n",
      "karel-lgrl-ref-edit-m1-sgd-cl1-lr0.1-lds100k-ldr0.5 0,0,1 step 250100: 0.0612 (of 2500)\n",
      "karel-lgrl-ref-edit-m1-sgd-cl1-lr0.1-lds100k-ldr0.5 0,0,1 step 300100: 0.0656 (of 2500)\n",
      "karel-lgrl-ref-edit-m1-sgd-cl1-lr0.1-lds100k-ldr0.5 0,0,1 step 350100: 0.0616 (of 2500)\n",
      "karel-lgrl-ref-edit-m1-sgd-cl1-lr0.1-lds100k-ldr0.5 0,0,1 step 400100: 0.0632 (of 2500)\n",
      "karel-lgrl-ref-edit-m1-sgd-cl1-lr0.1-lds100k-ldr0.5 0,0,1 step 436300: 0.0620 (of 2500)\n",
      "karel-lgrl-ref-edit-m1-sgd-cl1-lr0.1-lds100k-ldr0.5 0,0,1 step 50100: 0.0524 (of 2500)\n",
      "karel-lgrl-ref-edit-m1-sgd-cl1-lr0.1-lds100k-ldr0.5 0,1 step 100100: 0.1352 (of 2500)\n",
      "karel-lgrl-ref-edit-m1-sgd-cl1-lr0.1-lds100k-ldr0.5 0,1 step 150100: 0.1312 (of 2500)\n",
      "karel-lgrl-ref-edit-m1-sgd-cl1-lr0.1-lds100k-ldr0.5 0,1 step 200100: 0.1312 (of 2500)\n",
      "karel-lgrl-ref-edit-m1-sgd-cl1-lr0.1-lds100k-ldr0.5 0,1 step 250100: 0.1344 (of 2500)\n",
      "karel-lgrl-ref-edit-m1-sgd-cl1-lr0.1-lds100k-ldr0.5 0,1 step 300100: 0.1352 (of 2500)\n",
      "karel-lgrl-ref-edit-m1-sgd-cl1-lr0.1-lds100k-ldr0.5 0,1 step 350100: 0.1400 (of 2500)\n",
      "karel-lgrl-ref-edit-m1-sgd-cl1-lr0.1-lds100k-ldr0.5 0,1 step 400100: 0.1372 (of 2500)\n",
      "karel-lgrl-ref-edit-m1-sgd-cl1-lr0.1-lds100k-ldr0.5 0,1 step 436300: 0.1384 (of 2500)\n",
      "karel-lgrl-ref-edit-m1-sgd-cl1-lr0.1-lds100k-ldr0.5 0,1 step 50100: 0.1116 (of 2500)\n",
      "karel-lgrl-ref-edit-m1-sgd-cl1-lr0.1-lds100k-ldr0.5 1 step 100100: 0.7416 (of 2500)\n",
      "karel-lgrl-ref-edit-m1-sgd-cl1-lr0.1-lds100k-ldr0.5 1 step 150100: 0.7144 (of 2500)\n",
      "karel-lgrl-ref-edit-m1-sgd-cl1-lr0.1-lds100k-ldr0.5 1 step 200100: 0.7144 (of 2500)\n",
      "karel-lgrl-ref-edit-m1-sgd-cl1-lr0.1-lds100k-ldr0.5 1 step 250100: 0.7272 (of 2500)\n",
      "karel-lgrl-ref-edit-m1-sgd-cl1-lr0.1-lds100k-ldr0.5 1 step 300100: 0.7296 (of 2500)\n",
      "karel-lgrl-ref-edit-m1-sgd-cl1-lr0.1-lds100k-ldr0.5 1 step 350100: 0.7272 (of 2500)\n",
      "karel-lgrl-ref-edit-m1-sgd-cl1-lr0.1-lds100k-ldr0.5 1 step 400100: 0.7352 (of 2500)\n",
      "karel-lgrl-ref-edit-m1-sgd-cl1-lr0.1-lds100k-ldr0.5 1 step 436300: 0.7244 (of 2500)\n",
      "karel-lgrl-ref-edit-m1-sgd-cl1-lr0.1-lds100k-ldr0.5 1 step 50100: 0.6004 (of 2500)\n",
      "karel-lgrl-ref-edit-m12-sgd-cl1-lr0.1-lds100k-ldr0.5 0,0,1 step 100100: 0.2444 (of 2500)\n",
      "karel-lgrl-ref-edit-m12-sgd-cl1-lr0.1-lds100k-ldr0.5 0,0,1 step 150100: 0.2172 (of 2500)\n",
      "karel-lgrl-ref-edit-m12-sgd-cl1-lr0.1-lds100k-ldr0.5 0,0,1 step 200100: 0.2272 (of 2500)\n",
      "karel-lgrl-ref-edit-m12-sgd-cl1-lr0.1-lds100k-ldr0.5 0,0,1 step 250100: 0.2004 (of 2500)\n",
      "karel-lgrl-ref-edit-m12-sgd-cl1-lr0.1-lds100k-ldr0.5 0,0,1 step 300100: 0.1864 (of 2500)\n",
      "karel-lgrl-ref-edit-m12-sgd-cl1-lr0.1-lds100k-ldr0.5 0,0,1 step 350100: 0.1680 (of 2500)\n",
      "karel-lgrl-ref-edit-m12-sgd-cl1-lr0.1-lds100k-ldr0.5 0,0,1 step 400100: 0.1808 (of 448)\n",
      "karel-lgrl-ref-edit-m12-sgd-cl1-lr0.1-lds100k-ldr0.5 0,0,1 step 436300: 0.1820 (of 2500)\n",
      "karel-lgrl-ref-edit-m12-sgd-cl1-lr0.1-lds100k-ldr0.5 0,0,1 step 50100: 0.1452 (of 2500)\n",
      "karel-lgrl-ref-edit-m12-sgd-cl1-lr0.1-lds100k-ldr0.5 0,1 step 100100: 0.4788 (of 2500)\n",
      "karel-lgrl-ref-edit-m12-sgd-cl1-lr0.1-lds100k-ldr0.5 0,1 step 150100: 0.4628 (of 2500)\n",
      "karel-lgrl-ref-edit-m12-sgd-cl1-lr0.1-lds100k-ldr0.5 0,1 step 200100: 0.4640 (of 2500)\n",
      "karel-lgrl-ref-edit-m12-sgd-cl1-lr0.1-lds100k-ldr0.5 0,1 step 250100: 0.4224 (of 2500)\n",
      "karel-lgrl-ref-edit-m12-sgd-cl1-lr0.1-lds100k-ldr0.5 0,1 step 300100: 0.3844 (of 2500)\n",
      "karel-lgrl-ref-edit-m12-sgd-cl1-lr0.1-lds100k-ldr0.5 0,1 step 350100: 0.3348 (of 2500)\n",
      "karel-lgrl-ref-edit-m12-sgd-cl1-lr0.1-lds100k-ldr0.5 0,1 step 400100: 0.3780 (of 2500)\n",
      "karel-lgrl-ref-edit-m12-sgd-cl1-lr0.1-lds100k-ldr0.5 0,1 step 436300: 0.3844 (of 2500)\n",
      "karel-lgrl-ref-edit-m12-sgd-cl1-lr0.1-lds100k-ldr0.5 0,1 step 50100: 0.3512 (of 2500)\n",
      "karel-lgrl-ref-edit-m12-sgd-cl1-lr0.1-lds100k-ldr0.5 1 step 100100: 0.6572 (of 2500)\n",
      "karel-lgrl-ref-edit-m12-sgd-cl1-lr0.1-lds100k-ldr0.5 1 step 150100: 0.5948 (of 2500)\n",
      "karel-lgrl-ref-edit-m12-sgd-cl1-lr0.1-lds100k-ldr0.5 1 step 200100: 0.5456 (of 2500)\n",
      "karel-lgrl-ref-edit-m12-sgd-cl1-lr0.1-lds100k-ldr0.5 1 step 250100: 0.4820 (of 2500)\n",
      "karel-lgrl-ref-edit-m12-sgd-cl1-lr0.1-lds100k-ldr0.5 1 step 300100: 0.4472 (of 2500)\n",
      "karel-lgrl-ref-edit-m12-sgd-cl1-lr0.1-lds100k-ldr0.5 1 step 350100: 0.3884 (of 2500)\n",
      "karel-lgrl-ref-edit-m12-sgd-cl1-lr0.1-lds100k-ldr0.5 1 step 400100: 0.4212 (of 2500)\n",
      "karel-lgrl-ref-edit-m12-sgd-cl1-lr0.1-lds100k-ldr0.5 1 step 436300: 0.4340 (of 2500)\n",
      "karel-lgrl-ref-edit-m12-sgd-cl1-lr0.1-lds100k-ldr0.5 1 step 50100: 0.5668 (of 2500)\n",
      "karel-lgrl-ref-edit-m123-sgd-cl1-lr0.1-lds100k-ldr0.5 0,0,1 step 100100: 0.4976 (of 2500)\n",
      "karel-lgrl-ref-edit-m123-sgd-cl1-lr0.1-lds100k-ldr0.5 0,0,1 step 150100: 0.5244 (of 2500)\n",
      "karel-lgrl-ref-edit-m123-sgd-cl1-lr0.1-lds100k-ldr0.5 0,0,1 step 200100: 0.5640 (of 2500)\n",
      "karel-lgrl-ref-edit-m123-sgd-cl1-lr0.1-lds100k-ldr0.5 0,0,1 step 250100: 0.5816 (of 2500)\n",
      "karel-lgrl-ref-edit-m123-sgd-cl1-lr0.1-lds100k-ldr0.5 0,0,1 step 300100: 0.5948 (of 2500)\n",
      "karel-lgrl-ref-edit-m123-sgd-cl1-lr0.1-lds100k-ldr0.5 0,0,1 step 350100: 0.5992 (of 2500)\n",
      "karel-lgrl-ref-edit-m123-sgd-cl1-lr0.1-lds100k-ldr0.5 0,0,1 step 400100: 0.6096 (of 2500)\n",
      "karel-lgrl-ref-edit-m123-sgd-cl1-lr0.1-lds100k-ldr0.5 0,0,1 step 436300: 0.6052 (of 2500)\n",
      "karel-lgrl-ref-edit-m123-sgd-cl1-lr0.1-lds100k-ldr0.5 0,0,1 step 50100: 0.3448 (of 2500)\n",
      "karel-lgrl-ref-edit-m123-sgd-cl1-lr0.1-lds100k-ldr0.5 0,1 step 100100: 0.6036 (of 2500)\n",
      "karel-lgrl-ref-edit-m123-sgd-cl1-lr0.1-lds100k-ldr0.5 0,1 step 150100: 0.6232 (of 2500)\n",
      "karel-lgrl-ref-edit-m123-sgd-cl1-lr0.1-lds100k-ldr0.5 0,1 step 200100: 0.6536 (of 2500)\n",
      "karel-lgrl-ref-edit-m123-sgd-cl1-lr0.1-lds100k-ldr0.5 0,1 step 250100: 0.6656 (of 2500)\n",
      "karel-lgrl-ref-edit-m123-sgd-cl1-lr0.1-lds100k-ldr0.5 0,1 step 300100: 0.6732 (of 2500)\n",
      "karel-lgrl-ref-edit-m123-sgd-cl1-lr0.1-lds100k-ldr0.5 0,1 step 350100: 0.6828 (of 2500)\n",
      "karel-lgrl-ref-edit-m123-sgd-cl1-lr0.1-lds100k-ldr0.5 0,1 step 400100: 0.6848 (of 2500)\n",
      "karel-lgrl-ref-edit-m123-sgd-cl1-lr0.1-lds100k-ldr0.5 0,1 step 436300: 0.6852 (of 2500)\n",
      "karel-lgrl-ref-edit-m123-sgd-cl1-lr0.1-lds100k-ldr0.5 0,1 step 50100: 0.4400 (of 2500)\n",
      "karel-lgrl-ref-edit-m123-sgd-cl1-lr0.1-lds100k-ldr0.5 1 step 100100: 0.7388 (of 2500)\n",
      "karel-lgrl-ref-edit-m123-sgd-cl1-lr0.1-lds100k-ldr0.5 1 step 150100: 0.7580 (of 2500)\n",
      "karel-lgrl-ref-edit-m123-sgd-cl1-lr0.1-lds100k-ldr0.5 1 step 200100: 0.7652 (of 2500)\n",
      "karel-lgrl-ref-edit-m123-sgd-cl1-lr0.1-lds100k-ldr0.5 1 step 250100: 0.7812 (of 2500)\n",
      "karel-lgrl-ref-edit-m123-sgd-cl1-lr0.1-lds100k-ldr0.5 1 step 300100: 0.7772 (of 2500)\n",
      "karel-lgrl-ref-edit-m123-sgd-cl1-lr0.1-lds100k-ldr0.5 1 step 350100: 0.7916 (of 2500)\n",
      "karel-lgrl-ref-edit-m123-sgd-cl1-lr0.1-lds100k-ldr0.5 1 step 400100: 0.7944 (of 2500)\n",
      "karel-lgrl-ref-edit-m123-sgd-cl1-lr0.1-lds100k-ldr0.5 1 step 436300: 0.7900 (of 2500)\n",
      "karel-lgrl-ref-edit-m123-sgd-cl1-lr0.1-lds100k-ldr0.5 1 step 50100: 0.5796 (of 2500)\n",
      "karel-lgrl-ref-edit-state-mem-m123-sgd-cl1-lr0.1-lds100k-ldr0.5 0,0,1 step 100100: 0.2772 (of 2500)\n",
      "karel-lgrl-ref-edit-state-mem-m123-sgd-cl1-lr0.1-lds100k-ldr0.5 0,0,1 step 150100: 0.2796 (of 2500)\n",
      "karel-lgrl-ref-edit-state-mem-m123-sgd-cl1-lr0.1-lds100k-ldr0.5 0,0,1 step 200100: 0.2936 (of 2500)\n",
      "karel-lgrl-ref-edit-state-mem-m123-sgd-cl1-lr0.1-lds100k-ldr0.5 0,0,1 step 250100: 0.2960 (of 2500)\n",
      "karel-lgrl-ref-edit-state-mem-m123-sgd-cl1-lr0.1-lds100k-ldr0.5 0,0,1 step 300100: 0.3044 (of 2500)\n",
      "karel-lgrl-ref-edit-state-mem-m123-sgd-cl1-lr0.1-lds100k-ldr0.5 0,0,1 step 350100: 0.3036 (of 2500)\n",
      "karel-lgrl-ref-edit-state-mem-m123-sgd-cl1-lr0.1-lds100k-ldr0.5 0,0,1 step 400100: 0.2980 (of 2500)\n",
      "karel-lgrl-ref-edit-state-mem-m123-sgd-cl1-lr0.1-lds100k-ldr0.5 0,0,1 step 436300: 0.3076 (of 2500)\n",
      "karel-lgrl-ref-edit-state-mem-m123-sgd-cl1-lr0.1-lds100k-ldr0.5 0,0,1 step 50100: 0.1780 (of 2500)\n",
      "karel-lgrl-ref-edit-state-mem-m123-sgd-cl1-lr0.1-lds100k-ldr0.5 0,1 step 100100: 0.3504 (of 2500)\n",
      "karel-lgrl-ref-edit-state-mem-m123-sgd-cl1-lr0.1-lds100k-ldr0.5 0,1 step 150100: 0.3664 (of 2500)\n",
      "karel-lgrl-ref-edit-state-mem-m123-sgd-cl1-lr0.1-lds100k-ldr0.5 0,1 step 200100: 0.3896 (of 2500)\n"
     ]
    },
    {
     "name": "stdout",
     "output_type": "stream",
     "text": [
      "karel-lgrl-ref-edit-state-mem-m123-sgd-cl1-lr0.1-lds100k-ldr0.5 0,1 step 250100: 0.3972 (of 2500)\n",
      "karel-lgrl-ref-edit-state-mem-m123-sgd-cl1-lr0.1-lds100k-ldr0.5 0,1 step 300100: 0.3956 (of 2500)\n",
      "karel-lgrl-ref-edit-state-mem-m123-sgd-cl1-lr0.1-lds100k-ldr0.5 0,1 step 350100: 0.4040 (of 2500)\n",
      "karel-lgrl-ref-edit-state-mem-m123-sgd-cl1-lr0.1-lds100k-ldr0.5 0,1 step 400100: 0.4008 (of 2500)\n",
      "karel-lgrl-ref-edit-state-mem-m123-sgd-cl1-lr0.1-lds100k-ldr0.5 0,1 step 436300: 0.4036 (of 2500)\n",
      "karel-lgrl-ref-edit-state-mem-m123-sgd-cl1-lr0.1-lds100k-ldr0.5 0,1 step 50100: 0.2484 (of 2500)\n",
      "karel-lgrl-ref-edit-state-mem-m123-sgd-cl1-lr0.1-lds100k-ldr0.5 1 step 100100: 0.4200 (of 2500)\n",
      "karel-lgrl-ref-edit-state-mem-m123-sgd-cl1-lr0.1-lds100k-ldr0.5 1 step 150100: 0.4384 (of 2500)\n",
      "karel-lgrl-ref-edit-state-mem-m123-sgd-cl1-lr0.1-lds100k-ldr0.5 1 step 200100: 0.4652 (of 2500)\n",
      "karel-lgrl-ref-edit-state-mem-m123-sgd-cl1-lr0.1-lds100k-ldr0.5 1 step 250100: 0.4660 (of 2500)\n",
      "karel-lgrl-ref-edit-state-mem-m123-sgd-cl1-lr0.1-lds100k-ldr0.5 1 step 300100: 0.4704 (of 2500)\n",
      "karel-lgrl-ref-edit-state-mem-m123-sgd-cl1-lr0.1-lds100k-ldr0.5 1 step 350100: 0.4692 (of 2500)\n",
      "karel-lgrl-ref-edit-state-mem-m123-sgd-cl1-lr0.1-lds100k-ldr0.5 1 step 400100: 0.4660 (of 2500)\n",
      "karel-lgrl-ref-edit-state-mem-m123-sgd-cl1-lr0.1-lds100k-ldr0.5 1 step 436300: 0.4684 (of 2500)\n",
      "karel-lgrl-ref-edit-state-mem-m123-sgd-cl1-lr0.1-lds100k-ldr0.5 1 step 50100: 0.3424 (of 2500)\n"
     ]
    }
   ],
   "source": [
    "top1_model_best = collections.defaultdict(lambda: (0.0, 0))\n",
    "for fn in sorted(glob.glob('logdirs/20180207/*/exec-results-dev-*.pkl')):\n",
    "    dist, step = re.search(r'exec-results-dev-m(.*)-(\\d+).pkl', fn).groups()\n",
    "    step = int(step)\n",
    "    model_name = os.path.basename(os.path.dirname(fn))\n",
    "    exec_results = pickle.load(open(fn))\n",
    "    correct, total = test_top_n(exec_results, 1)\n",
    "    accuracy = correct / float(total)\n",
    "    print '{} {} step {}: {:.4f} (of {})'.format(model_name, dist, step, accuracy, total)\n",
    "    top1_model_best[model_name, dist] = max(top1_model_best[model_name, dist], (accuracy, -int(step)))"
   ]
  },
  {
   "cell_type": "code",
   "execution_count": 24,
   "metadata": {},
   "outputs": [
    {
     "data": {
      "text/plain": [
       "defaultdict(<function __main__.<lambda>>,\n",
       "            {('karel-lgrl-ref-edit-m1-sgd-cl1-lr0.1-lds100k-ldr0.5',\n",
       "              '0,0,1'): (0.0672, -100100),\n",
       "             ('karel-lgrl-ref-edit-m1-sgd-cl1-lr0.1-lds100k-ldr0.5',\n",
       "              '0,1'): (0.14, -350100),\n",
       "             ('karel-lgrl-ref-edit-m1-sgd-cl1-lr0.1-lds100k-ldr0.5',\n",
       "              '1'): (0.7416, -100100),\n",
       "             ('karel-lgrl-ref-edit-m12-sgd-cl1-lr0.1-lds100k-ldr0.5',\n",
       "              '0,0,1'): (0.2444, -100100),\n",
       "             ('karel-lgrl-ref-edit-m12-sgd-cl1-lr0.1-lds100k-ldr0.5',\n",
       "              '0,1'): (0.4788, -100100),\n",
       "             ('karel-lgrl-ref-edit-m12-sgd-cl1-lr0.1-lds100k-ldr0.5',\n",
       "              '1'): (0.6572, -100100),\n",
       "             ('karel-lgrl-ref-edit-m123-sgd-cl1-lr0.1-lds100k-ldr0.5',\n",
       "              '0,0,1'): (0.6096, -400100),\n",
       "             ('karel-lgrl-ref-edit-m123-sgd-cl1-lr0.1-lds100k-ldr0.5',\n",
       "              '0,1'): (0.6852, -436300),\n",
       "             ('karel-lgrl-ref-edit-m123-sgd-cl1-lr0.1-lds100k-ldr0.5',\n",
       "              '1'): (0.7944, -400100),\n",
       "             ('karel-lgrl-ref-edit-state-mem-m123-sgd-cl1-lr0.1-lds100k-ldr0.5',\n",
       "              '0,0,1'): (0.3076, -436300),\n",
       "             ('karel-lgrl-ref-edit-state-mem-m123-sgd-cl1-lr0.1-lds100k-ldr0.5',\n",
       "              '0,1'): (0.404, -350100),\n",
       "             ('karel-lgrl-ref-edit-state-mem-m123-sgd-cl1-lr0.1-lds100k-ldr0.5',\n",
       "              '1'): (0.4704, -300100)})"
      ]
     },
     "execution_count": 24,
     "metadata": {},
     "output_type": "execute_result"
    }
   ],
   "source": [
    "top1_model_best"
   ]
  },
  {
   "cell_type": "code",
   "execution_count": 25,
   "metadata": {},
   "outputs": [
    {
     "name": "stdout",
     "output_type": "stream",
     "text": [
      "karel-lgrl-ref-state-m123-sgd-cl1-lr0.1-lds100k-ldr0.5 0,0,1 step 100100: 0.6964 (of 2500)\n",
      "karel-lgrl-ref-state-m123-sgd-cl1-lr0.1-lds100k-ldr0.5 0,0,1 step 150100: 0.6984 (of 2500)\n",
      "karel-lgrl-ref-state-m123-sgd-cl1-lr0.1-lds100k-ldr0.5 0,0,1 step 200100: 0.6924 (of 2500)\n",
      "karel-lgrl-ref-state-m123-sgd-cl1-lr0.1-lds100k-ldr0.5 0,0,1 step 250100: 0.6812 (of 2500)\n",
      "karel-lgrl-ref-state-m123-sgd-cl1-lr0.1-lds100k-ldr0.5 0,0,1 step 300100: 0.6660 (of 2500)\n",
      "karel-lgrl-ref-state-m123-sgd-cl1-lr0.1-lds100k-ldr0.5 0,0,1 step 50100: 0.6268 (of 2500)\n",
      "karel-lgrl-ref-state-m123-sgd-cl1-lr0.1-lds100k-ldr0.5 0,1 step 100100: 0.6972 (of 2500)\n",
      "karel-lgrl-ref-state-m123-sgd-cl1-lr0.1-lds100k-ldr0.5 0,1 step 150100: 0.6988 (of 2500)\n",
      "karel-lgrl-ref-state-m123-sgd-cl1-lr0.1-lds100k-ldr0.5 0,1 step 200100: 0.6916 (of 2500)\n",
      "karel-lgrl-ref-state-m123-sgd-cl1-lr0.1-lds100k-ldr0.5 0,1 step 250100: 0.6812 (of 2500)\n",
      "karel-lgrl-ref-state-m123-sgd-cl1-lr0.1-lds100k-ldr0.5 0,1 step 300100: 0.6664 (of 2500)\n",
      "karel-lgrl-ref-state-m123-sgd-cl1-lr0.1-lds100k-ldr0.5 0,1 step 50100: 0.6272 (of 2500)\n",
      "karel-lgrl-ref-state-m123-sgd-cl1-lr0.1-lds100k-ldr0.5 1 step 100100: 0.6964 (of 2500)\n",
      "karel-lgrl-ref-state-m123-sgd-cl1-lr0.1-lds100k-ldr0.5 1 step 150100: 0.6980 (of 2500)\n",
      "karel-lgrl-ref-state-m123-sgd-cl1-lr0.1-lds100k-ldr0.5 1 step 200100: 0.6924 (of 2500)\n",
      "karel-lgrl-ref-state-m123-sgd-cl1-lr0.1-lds100k-ldr0.5 1 step 250100: 0.6808 (of 2500)\n",
      "karel-lgrl-ref-state-m123-sgd-cl1-lr0.1-lds100k-ldr0.5 1 step 300100: 0.6664 (of 2500)\n",
      "karel-lgrl-ref-state-m123-sgd-cl1-lr0.1-lds100k-ldr0.5 1 step 50100: 0.6268 (of 2500)\n",
      "karel-lgrl-ref-state-mem-m123-sgd-cl1-lr0.1-lds100k-ldr0.5 0,0,1 step 100100: 0.6048 (of 2500)\n",
      "karel-lgrl-ref-state-mem-m123-sgd-cl1-lr0.1-lds100k-ldr0.5 0,0,1 step 50100: 0.5272 (of 2500)\n",
      "karel-lgrl-ref-state-mem-m123-sgd-cl1-lr0.1-lds100k-ldr0.5 0,1 step 100100: 0.6800 (of 2500)\n",
      "karel-lgrl-ref-state-mem-m123-sgd-cl1-lr0.1-lds100k-ldr0.5 0,1 step 50100: 0.6084 (of 2500)\n",
      "karel-lgrl-ref-state-mem-m123-sgd-cl1-lr0.1-lds100k-ldr0.5 1 step 100100: 0.7752 (of 2500)\n",
      "karel-lgrl-ref-state-mem-m123-sgd-cl1-lr0.1-lds100k-ldr0.5 1 step 50100: 0.7180 (of 2500)\n"
     ]
    }
   ],
   "source": [
    "top1_model_best = collections.defaultdict(lambda: (0.0, 0))\n",
    "for fn in sorted(glob.glob('logdirs/20180208/*/exec-results-dev-*.pkl')):\n",
    "    dist, step = re.search(r'exec-results-dev-m(.*)-(\\d+).pkl', fn).groups()\n",
    "    step = int(step)\n",
    "    model_name = os.path.basename(os.path.dirname(fn))\n",
    "    exec_results = pickle.load(open(fn))\n",
    "    correct, total = test_top_n(exec_results, 1)\n",
    "    accuracy = correct / float(total)\n",
    "    print '{} {} step {}: {:.4f} (of {})'.format(model_name, dist, step, accuracy, total)\n",
    "    top1_model_best[model_name, dist] = max(top1_model_best[model_name, dist], (accuracy, -int(step)))"
   ]
  },
  {
   "cell_type": "code",
   "execution_count": 61,
   "metadata": {},
   "outputs": [
    {
     "name": "stdout",
     "output_type": "stream",
     "text": [
      "karel-lgrl-ref-edit-state-m123-sgd-cl1-lr0.1-lds100k-ldr0.5 0,0,1 step 100100: 0.0048 (of 2500)\n",
      "karel-lgrl-ref-edit-state-m123-sgd-cl1-lr0.1-lds100k-ldr0.5 0,0,1 step 150100: 0.0044 (of 2500)\n",
      "karel-lgrl-ref-edit-state-m123-sgd-cl1-lr0.1-lds100k-ldr0.5 0,0,1 step 200100: 0.0052 (of 2500)\n",
      "karel-lgrl-ref-edit-state-m123-sgd-cl1-lr0.1-lds100k-ldr0.5 0,0,1 step 250100: 0.0044 (of 2500)\n",
      "karel-lgrl-ref-edit-state-m123-sgd-cl1-lr0.1-lds100k-ldr0.5 0,0,1 step 300100: 0.0068 (of 2500)\n",
      "karel-lgrl-ref-edit-state-m123-sgd-cl1-lr0.1-lds100k-ldr0.5 0,0,1 step 350100: 0.0072 (of 2500)\n",
      "karel-lgrl-ref-edit-state-m123-sgd-cl1-lr0.1-lds100k-ldr0.5 0,0,1 step 400100: 0.0052 (of 2500)\n",
      "karel-lgrl-ref-edit-state-m123-sgd-cl1-lr0.1-lds100k-ldr0.5 0,0,1 step 436300: 0.0060 (of 2500)\n",
      "karel-lgrl-ref-edit-state-m123-sgd-cl1-lr0.1-lds100k-ldr0.5 0,0,1 step 50100: 0.0052 (of 2500)\n",
      "karel-lgrl-ref-edit-state-m123-sgd-cl1-lr0.1-lds100k-ldr0.5 0,1 step 100100: 0.0112 (of 2500)\n",
      "karel-lgrl-ref-edit-state-m123-sgd-cl1-lr0.1-lds100k-ldr0.5 0,1 step 150100: 0.0120 (of 2500)\n",
      "karel-lgrl-ref-edit-state-m123-sgd-cl1-lr0.1-lds100k-ldr0.5 0,1 step 200100: 0.0136 (of 2500)\n",
      "karel-lgrl-ref-edit-state-m123-sgd-cl1-lr0.1-lds100k-ldr0.5 0,1 step 250100: 0.0120 (of 2500)\n",
      "karel-lgrl-ref-edit-state-m123-sgd-cl1-lr0.1-lds100k-ldr0.5 0,1 step 300100: 0.0116 (of 2500)\n",
      "karel-lgrl-ref-edit-state-m123-sgd-cl1-lr0.1-lds100k-ldr0.5 0,1 step 350100: 0.0096 (of 2500)\n",
      "karel-lgrl-ref-edit-state-m123-sgd-cl1-lr0.1-lds100k-ldr0.5 0,1 step 400100: 0.0088 (of 2500)\n",
      "karel-lgrl-ref-edit-state-m123-sgd-cl1-lr0.1-lds100k-ldr0.5 0,1 step 436300: 0.0112 (of 2500)\n",
      "karel-lgrl-ref-edit-state-m123-sgd-cl1-lr0.1-lds100k-ldr0.5 0,1 step 50100: 0.0076 (of 2500)\n",
      "karel-lgrl-ref-edit-state-m123-sgd-cl1-lr0.1-lds100k-ldr0.5 1 step 100100: 0.0348 (of 2500)\n",
      "karel-lgrl-ref-edit-state-m123-sgd-cl1-lr0.1-lds100k-ldr0.5 1 step 150100: 0.0268 (of 2500)\n",
      "karel-lgrl-ref-edit-state-m123-sgd-cl1-lr0.1-lds100k-ldr0.5 1 step 200100: 0.0312 (of 2500)\n",
      "karel-lgrl-ref-edit-state-m123-sgd-cl1-lr0.1-lds100k-ldr0.5 1 step 250100: 0.0328 (of 2500)\n",
      "karel-lgrl-ref-edit-state-m123-sgd-cl1-lr0.1-lds100k-ldr0.5 1 step 300100: 0.0348 (of 2500)\n",
      "karel-lgrl-ref-edit-state-m123-sgd-cl1-lr0.1-lds100k-ldr0.5 1 step 350100: 0.0320 (of 2500)\n",
      "karel-lgrl-ref-edit-state-m123-sgd-cl1-lr0.1-lds100k-ldr0.5 1 step 400100: 0.0312 (of 2500)\n",
      "karel-lgrl-ref-edit-state-m123-sgd-cl1-lr0.1-lds100k-ldr0.5 1 step 436300: 0.0324 (of 2500)\n",
      "karel-lgrl-ref-edit-state-m123-sgd-cl1-lr0.1-lds100k-ldr0.5 1 step 50100: 0.0264 (of 2500)\n"
     ]
    }
   ],
   "source": [
    "top1_model_best = collections.defaultdict(lambda: (0.0, 0))\n",
    "for fn in sorted(glob.glob('logdirs/20180208/*ref-edit-state-m123*/exec-results-dev-*.pkl')):\n",
    "    dist, step = re.search(r'exec-results-dev-m(.*)-(\\d+).pkl', fn).groups()\n",
    "    step = int(step)\n",
    "    model_name = os.path.basename(os.path.dirname(fn))\n",
    "    exec_results = pickle.load(open(fn))\n",
    "    correct, total = test_top_n(exec_results, 1)\n",
    "    accuracy = correct / float(total)\n",
    "    print '{} {} step {}: {:.4f} (of {})'.format(model_name, dist, step, accuracy, total)\n",
    "    top1_model_best[model_name, dist] = max(top1_model_best[model_name, dist], (accuracy, -int(step)))"
   ]
  },
  {
   "cell_type": "code",
   "execution_count": 26,
   "metadata": {},
   "outputs": [
    {
     "data": {
      "text/plain": [
       "defaultdict(<function __main__.<lambda>>,\n",
       "            {('karel-lgrl-ref-state-m123-sgd-cl1-lr0.1-lds100k-ldr0.5',\n",
       "              '0,0,1'): (0.6984, -150100),\n",
       "             ('karel-lgrl-ref-state-m123-sgd-cl1-lr0.1-lds100k-ldr0.5',\n",
       "              '0,1'): (0.6988, -150100),\n",
       "             ('karel-lgrl-ref-state-m123-sgd-cl1-lr0.1-lds100k-ldr0.5',\n",
       "              '1'): (0.698, -150100),\n",
       "             ('karel-lgrl-ref-state-mem-m123-sgd-cl1-lr0.1-lds100k-ldr0.5',\n",
       "              '0,0,1'): (0.6048, -100100),\n",
       "             ('karel-lgrl-ref-state-mem-m123-sgd-cl1-lr0.1-lds100k-ldr0.5',\n",
       "              '0,1'): (0.68, -100100),\n",
       "             ('karel-lgrl-ref-state-mem-m123-sgd-cl1-lr0.1-lds100k-ldr0.5',\n",
       "              '1'): (0.7752, -100100)})"
      ]
     },
     "execution_count": 26,
     "metadata": {},
     "output_type": "execute_result"
    }
   ],
   "source": [
    "top1_model_best"
   ]
  },
  {
   "cell_type": "code",
   "execution_count": 72,
   "metadata": {},
   "outputs": [
    {
     "name": "stdout",
     "output_type": "stream",
     "text": [
      "karel-lgrl-ref-edit-m12-sgd-cl1-lr0.1-lds100k-ldr0.5 0,0,1 step 100100: 0.2776 (of 2500)\n",
      "karel-lgrl-ref-edit-m12-sgd-cl1-lr0.1-lds100k-ldr0.5 0,0,1 step 150100: 0.2928 (of 2500)\n",
      "karel-lgrl-ref-edit-m12-sgd-cl1-lr0.1-lds100k-ldr0.5 0,0,1 step 200100: 0.3112 (of 2500)\n",
      "karel-lgrl-ref-edit-m12-sgd-cl1-lr0.1-lds100k-ldr0.5 0,0,1 step 250100: 0.3196 (of 2500)\n",
      "karel-lgrl-ref-edit-m12-sgd-cl1-lr0.1-lds100k-ldr0.5 0,0,1 step 300100: 0.3312 (of 2500)\n",
      "karel-lgrl-ref-edit-m12-sgd-cl1-lr0.1-lds100k-ldr0.5 0,0,1 step 350100: 0.3224 (of 2500)\n",
      "karel-lgrl-ref-edit-m12-sgd-cl1-lr0.1-lds100k-ldr0.5 0,0,1 step 400100: 0.3240 (of 2500)\n",
      "karel-lgrl-ref-edit-m12-sgd-cl1-lr0.1-lds100k-ldr0.5 0,0,1 step 436300: 0.3268 (of 2500)\n",
      "karel-lgrl-ref-edit-m12-sgd-cl1-lr0.1-lds100k-ldr0.5 0,0,1 step 50100: 0.1580 (of 2500)\n",
      "karel-lgrl-ref-edit-m12-sgd-cl1-lr0.1-lds100k-ldr0.5 0,1 step 100100: 0.5768 (of 2500)\n",
      "karel-lgrl-ref-edit-m12-sgd-cl1-lr0.1-lds100k-ldr0.5 0,1 step 150100: 0.6064 (of 2500)\n",
      "karel-lgrl-ref-edit-m12-sgd-cl1-lr0.1-lds100k-ldr0.5 0,1 step 200100: 0.6296 (of 2500)\n",
      "karel-lgrl-ref-edit-m12-sgd-cl1-lr0.1-lds100k-ldr0.5 0,1 step 250100: 0.6552 (of 2500)\n",
      "karel-lgrl-ref-edit-m12-sgd-cl1-lr0.1-lds100k-ldr0.5 0,1 step 300100: 0.6516 (of 2500)\n",
      "karel-lgrl-ref-edit-m12-sgd-cl1-lr0.1-lds100k-ldr0.5 0,1 step 350100: 0.6576 (of 2500)\n",
      "karel-lgrl-ref-edit-m12-sgd-cl1-lr0.1-lds100k-ldr0.5 0,1 step 400100: 0.6652 (of 2500)\n",
      "karel-lgrl-ref-edit-m12-sgd-cl1-lr0.1-lds100k-ldr0.5 0,1 step 436300: 0.6620 (of 2500)\n",
      "karel-lgrl-ref-edit-m12-sgd-cl1-lr0.1-lds100k-ldr0.5 0,1 step 50100: 0.3644 (of 2500)\n",
      "karel-lgrl-ref-edit-m12-sgd-cl1-lr0.1-lds100k-ldr0.5 1 step 100100: 0.7400 (of 2500)\n",
      "karel-lgrl-ref-edit-m12-sgd-cl1-lr0.1-lds100k-ldr0.5 1 step 150100: 0.7584 (of 2500)\n",
      "karel-lgrl-ref-edit-m12-sgd-cl1-lr0.1-lds100k-ldr0.5 1 step 200100: 0.7704 (of 2500)\n",
      "karel-lgrl-ref-edit-m12-sgd-cl1-lr0.1-lds100k-ldr0.5 1 step 250100: 0.7748 (of 2500)\n",
      "karel-lgrl-ref-edit-m12-sgd-cl1-lr0.1-lds100k-ldr0.5 1 step 300100: 0.7676 (of 2500)\n",
      "karel-lgrl-ref-edit-m12-sgd-cl1-lr0.1-lds100k-ldr0.5 1 step 350100: 0.7712 (of 2500)\n",
      "karel-lgrl-ref-edit-m12-sgd-cl1-lr0.1-lds100k-ldr0.5 1 step 400100: 0.7860 (of 2500)\n",
      "karel-lgrl-ref-edit-m12-sgd-cl1-lr0.1-lds100k-ldr0.5 1 step 436300: 0.7904 (of 2500)\n",
      "karel-lgrl-ref-edit-m12-sgd-cl1-lr0.1-lds100k-ldr0.5 1 step 50100: 0.5960 (of 2500)\n",
      "defaultdict(<function <lambda> at 0x7fbb47466b90>, {('karel-lgrl-ref-edit-m12-sgd-cl1-lr0.1-lds100k-ldr0.5', '0,0,1'): (0.3312, -300100), ('karel-lgrl-ref-edit-m12-sgd-cl1-lr0.1-lds100k-ldr0.5', '0,1'): (0.6652, -400100), ('karel-lgrl-ref-edit-m12-sgd-cl1-lr0.1-lds100k-ldr0.5', '1'): (0.7904, -436300)})\n"
     ]
    }
   ],
   "source": [
    "top1_edit_m12_best = collections.defaultdict(lambda: (0.0, 0))\n",
    "for fn in sorted(glob.glob('logdirs/20180211/karel-lgrl-ref-edit-m12-sgd-cl1-lr0.1-lds100k-ldr0.5/exec-results-dev-*.pkl')):\n",
    "    dist, step = re.search(r'exec-results-dev-m(.*)-(\\d+).pkl', fn).groups()\n",
    "    step = int(step)\n",
    "    model_name = os.path.basename(os.path.dirname(fn))\n",
    "    exec_results = pickle.load(open(fn))\n",
    "    correct, total = test_top_n(exec_results, 1)\n",
    "    accuracy = correct / float(total)\n",
    "    print '{} {} step {}: {:.4f} (of {})'.format(model_name, dist, step, accuracy, total)\n",
    "    top1_edit_m12_best[model_name, dist] = max(top1_edit_m12_best[model_name, dist], (accuracy, -int(step)))\n",
    "print top1_edit_m12_best"
   ]
  },
  {
   "cell_type": "code",
   "execution_count": 63,
   "metadata": {},
   "outputs": [],
   "source": [
    "def print_results(fn):\n",
    "    _, dist, step = re.search(r'exec-results-(dev|test)-m(.*)-(\\d+).pkl', fn).groups()\n",
    "    step = int(step)\n",
    "    model_name = os.path.basename(os.path.dirname(fn))\n",
    "    exec_results = pickle.load(open(fn))\n",
    "    \n",
    "    for k in (1, 64):\n",
    "        correct, total = test_top_n_any(exec_results, k)\n",
    "        accuracy = correct / float(total)\n",
    "        print '{} {} k={} gen step {}: {:.4f} (of {})'.format(model_name, dist, k, step, accuracy, total)\n",
    "\n",
    "        correct, total = test_top_n_any_exact_match(exec_results, k)\n",
    "        accuracy = correct / float(total)\n",
    "        print '{} {} k={} exact step {}: {:.4f} (of {})'.format(model_name, dist, k, step, accuracy, total)"
   ]
  },
  {
   "cell_type": "code",
   "execution_count": 39,
   "metadata": {},
   "outputs": [
    {
     "name": "stdout",
     "output_type": "stream",
     "text": [
      "karel-lgrl-ref-m1-sgd-cl1-lr0.1-lds100k-ldr0.5 1 k=1 gen step 300100: 0.7900 (of 2500)\n",
      "karel-lgrl-ref-m1-sgd-cl1-lr0.1-lds100k-ldr0.5 1 k=1 exact step 300100: 0.7520 (of 2500)\n",
      "karel-lgrl-ref-m1-sgd-cl1-lr0.1-lds100k-ldr0.5 1 k=64 gen step 300100: 0.9812 (of 2500)\n",
      "karel-lgrl-ref-m1-sgd-cl1-lr0.1-lds100k-ldr0.5 1 k=64 exact step 300100: 0.9696 (of 2500)\n",
      "karel-lgrl-ref-m1-sgd-cl1-lr0.1-lds100k-ldr0.5 0,1 k=1 gen step 200100: 0.2364 (of 2500)\n",
      "karel-lgrl-ref-m1-sgd-cl1-lr0.1-lds100k-ldr0.5 0,1 k=1 exact step 200100: 0.1652 (of 2500)\n",
      "karel-lgrl-ref-m1-sgd-cl1-lr0.1-lds100k-ldr0.5 0,1 k=64 gen step 200100: 0.7176 (of 2500)\n",
      "karel-lgrl-ref-m1-sgd-cl1-lr0.1-lds100k-ldr0.5 0,1 k=64 exact step 200100: 0.5528 (of 2500)\n",
      "karel-lgrl-ref-m1-sgd-cl1-lr0.1-lds100k-ldr0.5 0,0,1 k=1 gen step 150100: 0.1268 (of 2500)\n",
      "karel-lgrl-ref-m1-sgd-cl1-lr0.1-lds100k-ldr0.5 0,0,1 k=1 exact step 150100: 0.0804 (of 2500)\n",
      "karel-lgrl-ref-m1-sgd-cl1-lr0.1-lds100k-ldr0.5 0,0,1 k=64 gen step 150100: 0.4164 (of 2500)\n",
      "karel-lgrl-ref-m1-sgd-cl1-lr0.1-lds100k-ldr0.5 0,0,1 k=64 exact step 150100: 0.2220 (of 2500)\n"
     ]
    }
   ],
   "source": [
    "print_results('logdirs/20180201/karel-lgrl-ref-m1-sgd-cl1-lr0.1-lds100k-ldr0.5/exec-results-dev-m1-300100.pkl')\n",
    "print_results('logdirs/20180201/karel-lgrl-ref-m1-sgd-cl1-lr0.1-lds100k-ldr0.5/exec-results-dev-m0,1-200100.pkl')\n",
    "print_results('logdirs/20180201/karel-lgrl-ref-m1-sgd-cl1-lr0.1-lds100k-ldr0.5/exec-results-dev-m0,0,1-150100.pkl')"
   ]
  },
  {
   "cell_type": "code",
   "execution_count": 66,
   "metadata": {},
   "outputs": [
    {
     "name": "stdout",
     "output_type": "stream",
     "text": [
      "karel-lgrl-ref-m1-sgd-cl1-lr0.1-lds100k-ldr0.5 1 k=1 gen step 300100: 0.7928 (of 2500)\n",
      "karel-lgrl-ref-m1-sgd-cl1-lr0.1-lds100k-ldr0.5 1 k=1 exact step 300100: 0.7588 (of 2500)\n",
      "karel-lgrl-ref-m1-sgd-cl1-lr0.1-lds100k-ldr0.5 1 k=64 gen step 300100: 0.9868 (of 2500)\n",
      "karel-lgrl-ref-m1-sgd-cl1-lr0.1-lds100k-ldr0.5 1 k=64 exact step 300100: 0.9712 (of 2500)\n",
      "karel-lgrl-ref-m1-sgd-cl1-lr0.1-lds100k-ldr0.5 0,1 k=1 gen step 200100: 0.2392 (of 2500)\n",
      "karel-lgrl-ref-m1-sgd-cl1-lr0.1-lds100k-ldr0.5 0,1 k=1 exact step 200100: 0.1656 (of 2500)\n",
      "karel-lgrl-ref-m1-sgd-cl1-lr0.1-lds100k-ldr0.5 0,1 k=64 gen step 200100: 0.7084 (of 2500)\n",
      "karel-lgrl-ref-m1-sgd-cl1-lr0.1-lds100k-ldr0.5 0,1 k=64 exact step 200100: 0.5408 (of 2500)\n",
      "karel-lgrl-ref-m1-sgd-cl1-lr0.1-lds100k-ldr0.5 0,0,1 k=1 gen step 150100: 0.1252 (of 2500)\n",
      "karel-lgrl-ref-m1-sgd-cl1-lr0.1-lds100k-ldr0.5 0,0,1 k=1 exact step 150100: 0.0812 (of 2500)\n",
      "karel-lgrl-ref-m1-sgd-cl1-lr0.1-lds100k-ldr0.5 0,0,1 k=64 gen step 150100: 0.4028 (of 2500)\n",
      "karel-lgrl-ref-m1-sgd-cl1-lr0.1-lds100k-ldr0.5 0,0,1 k=64 exact step 150100: 0.2072 (of 2500)\n"
     ]
    }
   ],
   "source": [
    "print_results('logdirs/20180201/karel-lgrl-ref-m1-sgd-cl1-lr0.1-lds100k-ldr0.5/exec-results-test-m1-300100.pkl')\n",
    "print_results('logdirs/20180201/karel-lgrl-ref-m1-sgd-cl1-lr0.1-lds100k-ldr0.5/exec-results-test-m0,1-200100.pkl')\n",
    "print_results('logdirs/20180201/karel-lgrl-ref-m1-sgd-cl1-lr0.1-lds100k-ldr0.5/exec-results-test-m0,0,1-150100.pkl')"
   ]
  },
  {
   "cell_type": "code",
   "execution_count": 40,
   "metadata": {},
   "outputs": [
    {
     "name": "stdout",
     "output_type": "stream",
     "text": [
      "karel-lgrl-ref-m12-sgd-cl1-lr0.1-lds100k-ldr0.5 1 k=1 gen step 200100: 0.8156 (of 2500)\n",
      "karel-lgrl-ref-m12-sgd-cl1-lr0.1-lds100k-ldr0.5 1 k=1 exact step 200100: 0.7376 (of 2500)\n",
      "karel-lgrl-ref-m12-sgd-cl1-lr0.1-lds100k-ldr0.5 1 k=64 gen step 200100: 0.9812 (of 2500)\n",
      "karel-lgrl-ref-m12-sgd-cl1-lr0.1-lds100k-ldr0.5 1 k=64 exact step 200100: 0.9640 (of 2500)\n",
      "karel-lgrl-ref-m12-sgd-cl1-lr0.1-lds100k-ldr0.5 0,1 k=1 gen step 300100: 0.7076 (of 2500)\n",
      "karel-lgrl-ref-m12-sgd-cl1-lr0.1-lds100k-ldr0.5 0,1 k=1 exact step 300100: 0.6184 (of 2500)\n",
      "karel-lgrl-ref-m12-sgd-cl1-lr0.1-lds100k-ldr0.5 0,1 k=64 gen step 300100: 0.9576 (of 2500)\n",
      "karel-lgrl-ref-m12-sgd-cl1-lr0.1-lds100k-ldr0.5 0,1 k=64 exact step 300100: 0.9152 (of 2500)\n",
      "karel-lgrl-ref-m12-sgd-cl1-lr0.1-lds100k-ldr0.5 0,0,1 k=1 gen step 150100: 0.5184 (of 2500)\n",
      "karel-lgrl-ref-m12-sgd-cl1-lr0.1-lds100k-ldr0.5 0,0,1 k=1 exact step 150100: 0.4128 (of 2500)\n",
      "karel-lgrl-ref-m12-sgd-cl1-lr0.1-lds100k-ldr0.5 0,0,1 k=64 gen step 150100: 0.8776 (of 2500)\n",
      "karel-lgrl-ref-m12-sgd-cl1-lr0.1-lds100k-ldr0.5 0,0,1 k=64 exact step 150100: 0.7912 (of 2500)\n"
     ]
    }
   ],
   "source": [
    "print_results('logdirs/20180201/karel-lgrl-ref-m12-sgd-cl1-lr0.1-lds100k-ldr0.5/exec-results-dev-m1-200100.pkl')\n",
    "print_results('logdirs/20180201/karel-lgrl-ref-m12-sgd-cl1-lr0.1-lds100k-ldr0.5/exec-results-dev-m0,1-300100.pkl')\n",
    "print_results('logdirs/20180201/karel-lgrl-ref-m12-sgd-cl1-lr0.1-lds100k-ldr0.5/exec-results-dev-m0,0,1-150100.pkl')"
   ]
  },
  {
   "cell_type": "code",
   "execution_count": 67,
   "metadata": {},
   "outputs": [
    {
     "name": "stdout",
     "output_type": "stream",
     "text": [
      "karel-lgrl-ref-m12-sgd-cl1-lr0.1-lds100k-ldr0.5 1 k=1 gen step 200100: 0.8324 (of 2500)\n",
      "karel-lgrl-ref-m12-sgd-cl1-lr0.1-lds100k-ldr0.5 1 k=1 exact step 200100: 0.7616 (of 2500)\n",
      "karel-lgrl-ref-m12-sgd-cl1-lr0.1-lds100k-ldr0.5 1 k=64 gen step 200100: 0.9840 (of 2500)\n",
      "karel-lgrl-ref-m12-sgd-cl1-lr0.1-lds100k-ldr0.5 1 k=64 exact step 200100: 0.9680 (of 2500)\n",
      "karel-lgrl-ref-m12-sgd-cl1-lr0.1-lds100k-ldr0.5 0,1 k=1 gen step 300100: 0.7268 (of 2500)\n",
      "karel-lgrl-ref-m12-sgd-cl1-lr0.1-lds100k-ldr0.5 0,1 k=1 exact step 300100: 0.6376 (of 2500)\n",
      "karel-lgrl-ref-m12-sgd-cl1-lr0.1-lds100k-ldr0.5 0,1 k=64 gen step 300100: 0.9656 (of 2500)\n",
      "karel-lgrl-ref-m12-sgd-cl1-lr0.1-lds100k-ldr0.5 0,1 k=64 exact step 300100: 0.9252 (of 2500)\n",
      "karel-lgrl-ref-m12-sgd-cl1-lr0.1-lds100k-ldr0.5 0,0,1 k=1 gen step 150100: 0.5036 (of 2500)\n",
      "karel-lgrl-ref-m12-sgd-cl1-lr0.1-lds100k-ldr0.5 0,0,1 k=1 exact step 150100: 0.4104 (of 2500)\n",
      "karel-lgrl-ref-m12-sgd-cl1-lr0.1-lds100k-ldr0.5 0,0,1 k=64 gen step 150100: 0.8912 (of 2500)\n",
      "karel-lgrl-ref-m12-sgd-cl1-lr0.1-lds100k-ldr0.5 0,0,1 k=64 exact step 150100: 0.8016 (of 2500)\n"
     ]
    }
   ],
   "source": [
    "print_results('logdirs/20180201/karel-lgrl-ref-m12-sgd-cl1-lr0.1-lds100k-ldr0.5/exec-results-test-m1-200100.pkl')\n",
    "print_results('logdirs/20180201/karel-lgrl-ref-m12-sgd-cl1-lr0.1-lds100k-ldr0.5/exec-results-test-m0,1-300100.pkl')\n",
    "print_results('logdirs/20180201/karel-lgrl-ref-m12-sgd-cl1-lr0.1-lds100k-ldr0.5/exec-results-test-m0,0,1-150100.pkl')"
   ]
  },
  {
   "cell_type": "code",
   "execution_count": 42,
   "metadata": {},
   "outputs": [
    {
     "name": "stdout",
     "output_type": "stream",
     "text": [
      "karel-lgrl-ref-m123-sgd-cl1-lr0.1-lds100k-ldr0.5 1 k=1 gen step 250100: 0.8276 (of 2500)\n",
      "karel-lgrl-ref-m123-sgd-cl1-lr0.1-lds100k-ldr0.5 1 k=1 exact step 250100: 0.7368 (of 2500)\n",
      "karel-lgrl-ref-m123-sgd-cl1-lr0.1-lds100k-ldr0.5 1 k=64 gen step 250100: 0.9836 (of 2500)\n",
      "karel-lgrl-ref-m123-sgd-cl1-lr0.1-lds100k-ldr0.5 1 k=64 exact step 250100: 0.9640 (of 2500)\n",
      "karel-lgrl-ref-m123-sgd-cl1-lr0.1-lds100k-ldr0.5 0,1 k=1 gen step 350100: 0.7644 (of 2500)\n",
      "karel-lgrl-ref-m123-sgd-cl1-lr0.1-lds100k-ldr0.5 0,1 k=1 exact step 350100: 0.6532 (of 2500)\n",
      "karel-lgrl-ref-m123-sgd-cl1-lr0.1-lds100k-ldr0.5 0,1 k=64 gen step 350100: 0.9624 (of 2500)\n",
      "karel-lgrl-ref-m123-sgd-cl1-lr0.1-lds100k-ldr0.5 0,1 k=64 exact step 350100: 0.9212 (of 2500)\n",
      "karel-lgrl-ref-m123-sgd-cl1-lr0.1-lds100k-ldr0.5 0,0,1 k=1 gen step 400100: 0.6912 (of 2500)\n",
      "karel-lgrl-ref-m123-sgd-cl1-lr0.1-lds100k-ldr0.5 0,0,1 k=1 exact step 400100: 0.5508 (of 2500)\n",
      "karel-lgrl-ref-m123-sgd-cl1-lr0.1-lds100k-ldr0.5 0,0,1 k=64 gen step 400100: 0.9232 (of 2500)\n",
      "karel-lgrl-ref-m123-sgd-cl1-lr0.1-lds100k-ldr0.5 0,0,1 k=64 exact step 400100: 0.8536 (of 2500)\n"
     ]
    }
   ],
   "source": [
    "print_results('logdirs/20180201/karel-lgrl-ref-m123-sgd-cl1-lr0.1-lds100k-ldr0.5/exec-results-dev-m1-250100.pkl')\n",
    "print_results('logdirs/20180201/karel-lgrl-ref-m123-sgd-cl1-lr0.1-lds100k-ldr0.5/exec-results-dev-m0,1-350100.pkl')\n",
    "print_results('logdirs/20180201/karel-lgrl-ref-m123-sgd-cl1-lr0.1-lds100k-ldr0.5/exec-results-dev-m0,0,1-400100.pkl')"
   ]
  },
  {
   "cell_type": "code",
   "execution_count": 68,
   "metadata": {},
   "outputs": [
    {
     "name": "stdout",
     "output_type": "stream",
     "text": [
      "karel-lgrl-ref-m123-sgd-cl1-lr0.1-lds100k-ldr0.5 1 k=1 gen step 250100: 0.8332 (of 2500)\n",
      "karel-lgrl-ref-m123-sgd-cl1-lr0.1-lds100k-ldr0.5 1 k=1 exact step 250100: 0.7372 (of 2500)\n",
      "karel-lgrl-ref-m123-sgd-cl1-lr0.1-lds100k-ldr0.5 1 k=64 gen step 250100: 0.9880 (of 2500)\n",
      "karel-lgrl-ref-m123-sgd-cl1-lr0.1-lds100k-ldr0.5 1 k=64 exact step 250100: 0.9656 (of 2500)\n",
      "karel-lgrl-ref-m123-sgd-cl1-lr0.1-lds100k-ldr0.5 0,1 k=1 gen step 350100: 0.7728 (of 2500)\n",
      "karel-lgrl-ref-m123-sgd-cl1-lr0.1-lds100k-ldr0.5 0,1 k=1 exact step 350100: 0.6592 (of 2500)\n",
      "karel-lgrl-ref-m123-sgd-cl1-lr0.1-lds100k-ldr0.5 0,1 k=64 gen step 350100: 0.9712 (of 2500)\n",
      "karel-lgrl-ref-m123-sgd-cl1-lr0.1-lds100k-ldr0.5 0,1 k=64 exact step 350100: 0.9256 (of 2500)\n",
      "karel-lgrl-ref-m123-sgd-cl1-lr0.1-lds100k-ldr0.5 0,0,1 k=1 gen step 400100: 0.6912 (of 2500)\n",
      "karel-lgrl-ref-m123-sgd-cl1-lr0.1-lds100k-ldr0.5 0,0,1 k=1 exact step 400100: 0.5704 (of 2500)\n",
      "karel-lgrl-ref-m123-sgd-cl1-lr0.1-lds100k-ldr0.5 0,0,1 k=64 gen step 400100: 0.9396 (of 2500)\n",
      "karel-lgrl-ref-m123-sgd-cl1-lr0.1-lds100k-ldr0.5 0,0,1 k=64 exact step 400100: 0.8672 (of 2500)\n"
     ]
    }
   ],
   "source": [
    "print_results('logdirs/20180201/karel-lgrl-ref-m123-sgd-cl1-lr0.1-lds100k-ldr0.5/exec-results-test-m1-250100.pkl')\n",
    "print_results('logdirs/20180201/karel-lgrl-ref-m123-sgd-cl1-lr0.1-lds100k-ldr0.5/exec-results-test-m0,1-350100.pkl')\n",
    "print_results('logdirs/20180201/karel-lgrl-ref-m123-sgd-cl1-lr0.1-lds100k-ldr0.5/exec-results-test-m0,0,1-400100.pkl')"
   ]
  },
  {
   "cell_type": "code",
   "execution_count": 43,
   "metadata": {},
   "outputs": [
    {
     "name": "stdout",
     "output_type": "stream",
     "text": [
      "karel-lgrl-ref-edit-m1-sgd-cl1-lr0.1-lds100k-ldr0.5 1 k=1 gen step 100100: 0.7416 (of 2500)\n",
      "karel-lgrl-ref-edit-m1-sgd-cl1-lr0.1-lds100k-ldr0.5 1 k=1 exact step 100100: 0.7152 (of 2500)\n",
      "karel-lgrl-ref-edit-m1-sgd-cl1-lr0.1-lds100k-ldr0.5 1 k=64 gen step 100100: 0.9856 (of 2500)\n",
      "karel-lgrl-ref-edit-m1-sgd-cl1-lr0.1-lds100k-ldr0.5 1 k=64 exact step 100100: 0.9760 (of 2500)\n",
      "karel-lgrl-ref-edit-m1-sgd-cl1-lr0.1-lds100k-ldr0.5 0,1 k=1 gen step 350100: 0.1400 (of 2500)\n",
      "karel-lgrl-ref-edit-m1-sgd-cl1-lr0.1-lds100k-ldr0.5 0,1 k=1 exact step 350100: 0.0720 (of 2500)\n",
      "karel-lgrl-ref-edit-m1-sgd-cl1-lr0.1-lds100k-ldr0.5 0,1 k=64 gen step 350100: 0.2396 (of 2500)\n",
      "karel-lgrl-ref-edit-m1-sgd-cl1-lr0.1-lds100k-ldr0.5 0,1 k=64 exact step 350100: 0.0904 (of 2500)\n",
      "karel-lgrl-ref-edit-m1-sgd-cl1-lr0.1-lds100k-ldr0.5 0,0,1 k=1 gen step 100100: 0.0672 (of 2500)\n",
      "karel-lgrl-ref-edit-m1-sgd-cl1-lr0.1-lds100k-ldr0.5 0,0,1 k=1 exact step 100100: 0.0356 (of 2500)\n",
      "karel-lgrl-ref-edit-m1-sgd-cl1-lr0.1-lds100k-ldr0.5 0,0,1 k=64 gen step 100100: 0.1280 (of 2500)\n",
      "karel-lgrl-ref-edit-m1-sgd-cl1-lr0.1-lds100k-ldr0.5 0,0,1 k=64 exact step 100100: 0.0420 (of 2500)\n"
     ]
    }
   ],
   "source": [
    "print_results('logdirs/20180207/karel-lgrl-ref-edit-m1-sgd-cl1-lr0.1-lds100k-ldr0.5/exec-results-dev-m1-100100.pkl')\n",
    "print_results('logdirs/20180207/karel-lgrl-ref-edit-m1-sgd-cl1-lr0.1-lds100k-ldr0.5/exec-results-dev-m0,1-350100.pkl')\n",
    "print_results('logdirs/20180207/karel-lgrl-ref-edit-m1-sgd-cl1-lr0.1-lds100k-ldr0.5/exec-results-dev-m0,0,1-100100.pkl')"
   ]
  },
  {
   "cell_type": "code",
   "execution_count": 69,
   "metadata": {},
   "outputs": [
    {
     "name": "stdout",
     "output_type": "stream",
     "text": [
      "karel-lgrl-ref-edit-m1-sgd-cl1-lr0.1-lds100k-ldr0.5 1 k=1 gen step 100100: 0.7392 (of 2500)\n",
      "karel-lgrl-ref-edit-m1-sgd-cl1-lr0.1-lds100k-ldr0.5 1 k=1 exact step 100100: 0.7156 (of 2500)\n",
      "karel-lgrl-ref-edit-m1-sgd-cl1-lr0.1-lds100k-ldr0.5 1 k=64 gen step 100100: 0.9884 (of 2500)\n",
      "karel-lgrl-ref-edit-m1-sgd-cl1-lr0.1-lds100k-ldr0.5 1 k=64 exact step 100100: 0.9788 (of 2500)\n",
      "karel-lgrl-ref-edit-m1-sgd-cl1-lr0.1-lds100k-ldr0.5 0,1 k=1 gen step 350100: 0.1500 (of 2500)\n",
      "karel-lgrl-ref-edit-m1-sgd-cl1-lr0.1-lds100k-ldr0.5 0,1 k=1 exact step 350100: 0.0780 (of 2500)\n",
      "karel-lgrl-ref-edit-m1-sgd-cl1-lr0.1-lds100k-ldr0.5 0,1 k=64 gen step 350100: 0.2468 (of 2500)\n",
      "karel-lgrl-ref-edit-m1-sgd-cl1-lr0.1-lds100k-ldr0.5 0,1 k=64 exact step 350100: 0.0960 (of 2500)\n",
      "karel-lgrl-ref-edit-m1-sgd-cl1-lr0.1-lds100k-ldr0.5 0,0,1 k=1 gen step 100100: 0.0760 (of 2500)\n",
      "karel-lgrl-ref-edit-m1-sgd-cl1-lr0.1-lds100k-ldr0.5 0,0,1 k=1 exact step 100100: 0.0364 (of 2500)\n",
      "karel-lgrl-ref-edit-m1-sgd-cl1-lr0.1-lds100k-ldr0.5 0,0,1 k=64 gen step 100100: 0.1348 (of 2500)\n",
      "karel-lgrl-ref-edit-m1-sgd-cl1-lr0.1-lds100k-ldr0.5 0,0,1 k=64 exact step 100100: 0.0436 (of 2500)\n"
     ]
    }
   ],
   "source": [
    "print_results('logdirs/20180207/karel-lgrl-ref-edit-m1-sgd-cl1-lr0.1-lds100k-ldr0.5/exec-results-test-m1-100100.pkl')\n",
    "print_results('logdirs/20180207/karel-lgrl-ref-edit-m1-sgd-cl1-lr0.1-lds100k-ldr0.5/exec-results-test-m0,1-350100.pkl')\n",
    "print_results('logdirs/20180207/karel-lgrl-ref-edit-m1-sgd-cl1-lr0.1-lds100k-ldr0.5/exec-results-test-m0,0,1-100100.pkl')"
   ]
  },
  {
   "cell_type": "code",
   "execution_count": 45,
   "metadata": {},
   "outputs": [
    {
     "name": "stdout",
     "output_type": "stream",
     "text": [
      "karel-lgrl-ref-edit-m12-sgd-cl1-lr0.1-lds100k-ldr0.5 1 k=1 gen step 100100: 0.6572 (of 2500)\n",
      "karel-lgrl-ref-edit-m12-sgd-cl1-lr0.1-lds100k-ldr0.5 1 k=1 exact step 100100: 0.6164 (of 2500)\n",
      "karel-lgrl-ref-edit-m12-sgd-cl1-lr0.1-lds100k-ldr0.5 1 k=64 gen step 100100: 0.9696 (of 2500)\n",
      "karel-lgrl-ref-edit-m12-sgd-cl1-lr0.1-lds100k-ldr0.5 1 k=64 exact step 100100: 0.9496 (of 2500)\n",
      "karel-lgrl-ref-edit-m12-sgd-cl1-lr0.1-lds100k-ldr0.5 0,1 k=1 gen step 100100: 0.4788 (of 2500)\n",
      "karel-lgrl-ref-edit-m12-sgd-cl1-lr0.1-lds100k-ldr0.5 0,1 k=1 exact step 100100: 0.4260 (of 2500)\n",
      "karel-lgrl-ref-edit-m12-sgd-cl1-lr0.1-lds100k-ldr0.5 0,1 k=64 gen step 100100: 0.9088 (of 2500)\n",
      "karel-lgrl-ref-edit-m12-sgd-cl1-lr0.1-lds100k-ldr0.5 0,1 k=64 exact step 100100: 0.8588 (of 2500)\n",
      "karel-lgrl-ref-edit-m12-sgd-cl1-lr0.1-lds100k-ldr0.5 0,0,1 k=1 gen step 100100: 0.2444 (of 2500)\n",
      "karel-lgrl-ref-edit-m12-sgd-cl1-lr0.1-lds100k-ldr0.5 0,0,1 k=1 exact step 100100: 0.1864 (of 2500)\n",
      "karel-lgrl-ref-edit-m12-sgd-cl1-lr0.1-lds100k-ldr0.5 0,0,1 k=64 gen step 100100: 0.6700 (of 2500)\n",
      "karel-lgrl-ref-edit-m12-sgd-cl1-lr0.1-lds100k-ldr0.5 0,0,1 k=64 exact step 100100: 0.5384 (of 2500)\n"
     ]
    }
   ],
   "source": [
    "print_results('logdirs/20180207/karel-lgrl-ref-edit-m12-sgd-cl1-lr0.1-lds100k-ldr0.5/exec-results-dev-m1-100100.pkl')\n",
    "print_results('logdirs/20180207/karel-lgrl-ref-edit-m12-sgd-cl1-lr0.1-lds100k-ldr0.5/exec-results-dev-m0,1-100100.pkl')\n",
    "print_results('logdirs/20180207/karel-lgrl-ref-edit-m12-sgd-cl1-lr0.1-lds100k-ldr0.5/exec-results-dev-m0,0,1-100100.pkl')"
   ]
  },
  {
   "cell_type": "code",
   "execution_count": 77,
   "metadata": {},
   "outputs": [
    {
     "name": "stdout",
     "output_type": "stream",
     "text": [
      "karel-lgrl-ref-edit-m12-sgd-cl1-lr0.1-lds100k-ldr0.5 1 k=1 gen step 436300: 0.7904 (of 2500)\n",
      "karel-lgrl-ref-edit-m12-sgd-cl1-lr0.1-lds100k-ldr0.5 1 k=1 exact step 436300: 0.7252 (of 2500)\n",
      "karel-lgrl-ref-edit-m12-sgd-cl1-lr0.1-lds100k-ldr0.5 1 k=64 gen step 436300: 0.9840 (of 2500)\n",
      "karel-lgrl-ref-edit-m12-sgd-cl1-lr0.1-lds100k-ldr0.5 1 k=64 exact step 436300: 0.9696 (of 2500)\n",
      "karel-lgrl-ref-edit-m12-sgd-cl1-lr0.1-lds100k-ldr0.5 0,1 k=1 gen step 400100: 0.6652 (of 2500)\n",
      "karel-lgrl-ref-edit-m12-sgd-cl1-lr0.1-lds100k-ldr0.5 0,1 k=1 exact step 400100: 0.5944 (of 2500)\n",
      "karel-lgrl-ref-edit-m12-sgd-cl1-lr0.1-lds100k-ldr0.5 0,1 k=64 gen step 400100: 0.9588 (of 2500)\n",
      "karel-lgrl-ref-edit-m12-sgd-cl1-lr0.1-lds100k-ldr0.5 0,1 k=64 exact step 400100: 0.9196 (of 2500)\n",
      "karel-lgrl-ref-edit-m12-sgd-cl1-lr0.1-lds100k-ldr0.5 0,0,1 k=1 gen step 300100: 0.3312 (of 2500)\n",
      "karel-lgrl-ref-edit-m12-sgd-cl1-lr0.1-lds100k-ldr0.5 0,0,1 k=1 exact step 300100: 0.2472 (of 2500)\n",
      "karel-lgrl-ref-edit-m12-sgd-cl1-lr0.1-lds100k-ldr0.5 0,0,1 k=64 gen step 300100: 0.7460 (of 2500)\n",
      "karel-lgrl-ref-edit-m12-sgd-cl1-lr0.1-lds100k-ldr0.5 0,0,1 k=64 exact step 300100: 0.5936 (of 2500)\n"
     ]
    }
   ],
   "source": [
    "print_results('logdirs/20180211/karel-lgrl-ref-edit-m12-sgd-cl1-lr0.1-lds100k-ldr0.5/exec-results-dev-m1-436300.pkl')\n",
    "print_results('logdirs/20180211/karel-lgrl-ref-edit-m12-sgd-cl1-lr0.1-lds100k-ldr0.5/exec-results-dev-m0,1-400100.pkl')\n",
    "print_results('logdirs/20180211/karel-lgrl-ref-edit-m12-sgd-cl1-lr0.1-lds100k-ldr0.5/exec-results-dev-m0,0,1-300100.pkl')"
   ]
  },
  {
   "cell_type": "code",
   "execution_count": 80,
   "metadata": {},
   "outputs": [
    {
     "name": "stdout",
     "output_type": "stream",
     "text": [
      "karel-lgrl-ref-edit-m12-sgd-cl1-lr0.1-lds100k-ldr0.5 1 k=1 gen step 436300: 0.7940 (of 2500)\n",
      "karel-lgrl-ref-edit-m12-sgd-cl1-lr0.1-lds100k-ldr0.5 1 k=1 exact step 436300: 0.7336 (of 2500)\n",
      "karel-lgrl-ref-edit-m12-sgd-cl1-lr0.1-lds100k-ldr0.5 1 k=64 gen step 436300: 0.9888 (of 2500)\n",
      "karel-lgrl-ref-edit-m12-sgd-cl1-lr0.1-lds100k-ldr0.5 1 k=64 exact step 436300: 0.9732 (of 2500)\n",
      "karel-lgrl-ref-edit-m12-sgd-cl1-lr0.1-lds100k-ldr0.5 0,1 k=1 gen step 400100: 0.6824 (of 2500)\n",
      "karel-lgrl-ref-edit-m12-sgd-cl1-lr0.1-lds100k-ldr0.5 0,1 k=1 exact step 400100: 0.6100 (of 2500)\n",
      "karel-lgrl-ref-edit-m12-sgd-cl1-lr0.1-lds100k-ldr0.5 0,1 k=64 gen step 400100: 0.9604 (of 2500)\n",
      "karel-lgrl-ref-edit-m12-sgd-cl1-lr0.1-lds100k-ldr0.5 0,1 k=64 exact step 400100: 0.9220 (of 2500)\n",
      "karel-lgrl-ref-edit-m12-sgd-cl1-lr0.1-lds100k-ldr0.5 0,0,1 k=1 gen step 300100: 0.3232 (of 2500)\n",
      "karel-lgrl-ref-edit-m12-sgd-cl1-lr0.1-lds100k-ldr0.5 0,0,1 k=1 exact step 300100: 0.2428 (of 2500)\n",
      "karel-lgrl-ref-edit-m12-sgd-cl1-lr0.1-lds100k-ldr0.5 0,0,1 k=64 gen step 300100: 0.7432 (of 2500)\n",
      "karel-lgrl-ref-edit-m12-sgd-cl1-lr0.1-lds100k-ldr0.5 0,0,1 k=64 exact step 300100: 0.5940 (of 2500)\n"
     ]
    }
   ],
   "source": [
    "print_results('logdirs/20180211/karel-lgrl-ref-edit-m12-sgd-cl1-lr0.1-lds100k-ldr0.5/exec-results-dev-m1-436300.pkl')\n",
    "print_results('logdirs/20180211/karel-lgrl-ref-edit-m12-sgd-cl1-lr0.1-lds100k-ldr0.5/exec-results-dev-m0,1-400100.pkl')\n",
    "print_results('logdirs/20180211/karel-lgrl-ref-edit-m12-sgd-cl1-lr0.1-lds100k-ldr0.5/exec-results-dev-m0,0,1-300100.pkl')"
   ]
  },
  {
   "cell_type": "code",
   "execution_count": 49,
   "metadata": {},
   "outputs": [
    {
     "name": "stdout",
     "output_type": "stream",
     "text": [
      "karel-lgrl-ref-edit-m123-sgd-cl1-lr0.1-lds100k-ldr0.5 1 k=1 gen step 400100: 0.7944 (of 2500)\n",
      "karel-lgrl-ref-edit-m123-sgd-cl1-lr0.1-lds100k-ldr0.5 1 k=1 exact step 400100: 0.7128 (of 2500)\n",
      "karel-lgrl-ref-edit-m123-sgd-cl1-lr0.1-lds100k-ldr0.5 1 k=64 gen step 400100: 0.9864 (of 2500)\n",
      "karel-lgrl-ref-edit-m123-sgd-cl1-lr0.1-lds100k-ldr0.5 1 k=64 exact step 400100: 0.9664 (of 2500)\n",
      "karel-lgrl-ref-edit-m123-sgd-cl1-lr0.1-lds100k-ldr0.5 0,1 k=1 gen step 436300: 0.6852 (of 2500)\n",
      "karel-lgrl-ref-edit-m123-sgd-cl1-lr0.1-lds100k-ldr0.5 0,1 k=1 exact step 436300: 0.5856 (of 2500)\n",
      "karel-lgrl-ref-edit-m123-sgd-cl1-lr0.1-lds100k-ldr0.5 0,1 k=64 gen step 436300: 0.9604 (of 2500)\n",
      "karel-lgrl-ref-edit-m123-sgd-cl1-lr0.1-lds100k-ldr0.5 0,1 k=64 exact step 436300: 0.9168 (of 2500)\n",
      "karel-lgrl-ref-edit-m123-sgd-cl1-lr0.1-lds100k-ldr0.5 0,0,1 k=1 gen step 400100: 0.6096 (of 2500)\n",
      "karel-lgrl-ref-edit-m123-sgd-cl1-lr0.1-lds100k-ldr0.5 0,0,1 k=1 exact step 400100: 0.4972 (of 2500)\n",
      "karel-lgrl-ref-edit-m123-sgd-cl1-lr0.1-lds100k-ldr0.5 0,0,1 k=64 gen step 400100: 0.9120 (of 2500)\n",
      "karel-lgrl-ref-edit-m123-sgd-cl1-lr0.1-lds100k-ldr0.5 0,0,1 k=64 exact step 400100: 0.8408 (of 2500)\n"
     ]
    }
   ],
   "source": [
    "print_results('logdirs/20180207/karel-lgrl-ref-edit-m123-sgd-cl1-lr0.1-lds100k-ldr0.5/exec-results-dev-m1-400100.pkl')\n",
    "print_results('logdirs/20180207/karel-lgrl-ref-edit-m123-sgd-cl1-lr0.1-lds100k-ldr0.5/exec-results-dev-m0,1-436300.pkl')\n",
    "print_results('logdirs/20180207/karel-lgrl-ref-edit-m123-sgd-cl1-lr0.1-lds100k-ldr0.5/exec-results-dev-m0,0,1-400100.pkl')"
   ]
  },
  {
   "cell_type": "code",
   "execution_count": 70,
   "metadata": {},
   "outputs": [
    {
     "name": "stdout",
     "output_type": "stream",
     "text": [
      "karel-lgrl-ref-edit-m123-sgd-cl1-lr0.1-lds100k-ldr0.5 1 k=1 gen step 400100: 0.7932 (of 2500)\n",
      "karel-lgrl-ref-edit-m123-sgd-cl1-lr0.1-lds100k-ldr0.5 1 k=1 exact step 400100: 0.7128 (of 2500)\n",
      "karel-lgrl-ref-edit-m123-sgd-cl1-lr0.1-lds100k-ldr0.5 1 k=64 gen step 400100: 0.9880 (of 2500)\n",
      "karel-lgrl-ref-edit-m123-sgd-cl1-lr0.1-lds100k-ldr0.5 1 k=64 exact step 400100: 0.9692 (of 2500)\n",
      "karel-lgrl-ref-edit-m123-sgd-cl1-lr0.1-lds100k-ldr0.5 0,1 k=1 gen step 436300: 0.7088 (of 2500)\n",
      "karel-lgrl-ref-edit-m123-sgd-cl1-lr0.1-lds100k-ldr0.5 0,1 k=1 exact step 436300: 0.6140 (of 2500)\n",
      "karel-lgrl-ref-edit-m123-sgd-cl1-lr0.1-lds100k-ldr0.5 0,1 k=64 gen step 436300: 0.9624 (of 2500)\n",
      "karel-lgrl-ref-edit-m123-sgd-cl1-lr0.1-lds100k-ldr0.5 0,1 k=64 exact step 436300: 0.9148 (of 2500)\n",
      "karel-lgrl-ref-edit-m123-sgd-cl1-lr0.1-lds100k-ldr0.5 0,0,1 k=1 gen step 400100: 0.6044 (of 2500)\n",
      "karel-lgrl-ref-edit-m123-sgd-cl1-lr0.1-lds100k-ldr0.5 0,0,1 k=1 exact step 400100: 0.5004 (of 2500)\n",
      "karel-lgrl-ref-edit-m123-sgd-cl1-lr0.1-lds100k-ldr0.5 0,0,1 k=64 gen step 400100: 0.9228 (of 2500)\n",
      "karel-lgrl-ref-edit-m123-sgd-cl1-lr0.1-lds100k-ldr0.5 0,0,1 k=64 exact step 400100: 0.8456 (of 2500)\n"
     ]
    }
   ],
   "source": [
    "print_results('logdirs/20180207/karel-lgrl-ref-edit-m123-sgd-cl1-lr0.1-lds100k-ldr0.5/exec-results-test-m1-400100.pkl')\n",
    "print_results('logdirs/20180207/karel-lgrl-ref-edit-m123-sgd-cl1-lr0.1-lds100k-ldr0.5/exec-results-test-m0,1-436300.pkl')\n",
    "print_results('logdirs/20180207/karel-lgrl-ref-edit-m123-sgd-cl1-lr0.1-lds100k-ldr0.5/exec-results-test-m0,0,1-400100.pkl')"
   ]
  },
  {
   "cell_type": "code",
   "execution_count": 50,
   "metadata": {},
   "outputs": [
    {
     "name": "stdout",
     "output_type": "stream",
     "text": [
      "karel-lgrl-ref-state-m123-sgd-cl1-lr0.1-lds100k-ldr0.5 1 k=1 gen step 150100: 0.6980 (of 2500)\n",
      "karel-lgrl-ref-state-m123-sgd-cl1-lr0.1-lds100k-ldr0.5 1 k=1 exact step 150100: 0.4020 (of 2500)\n",
      "karel-lgrl-ref-state-m123-sgd-cl1-lr0.1-lds100k-ldr0.5 1 k=64 gen step 150100: 0.8488 (of 2500)\n",
      "karel-lgrl-ref-state-m123-sgd-cl1-lr0.1-lds100k-ldr0.5 1 k=64 exact step 150100: 0.5776 (of 2500)\n",
      "karel-lgrl-ref-state-m123-sgd-cl1-lr0.1-lds100k-ldr0.5 0,1 k=1 gen step 150100: 0.6988 (of 2500)\n",
      "karel-lgrl-ref-state-m123-sgd-cl1-lr0.1-lds100k-ldr0.5 0,1 k=1 exact step 150100: 0.4024 (of 2500)\n",
      "karel-lgrl-ref-state-m123-sgd-cl1-lr0.1-lds100k-ldr0.5 0,1 k=64 gen step 150100: 0.8480 (of 2500)\n",
      "karel-lgrl-ref-state-m123-sgd-cl1-lr0.1-lds100k-ldr0.5 0,1 k=64 exact step 150100: 0.5768 (of 2500)\n",
      "karel-lgrl-ref-state-m123-sgd-cl1-lr0.1-lds100k-ldr0.5 0,0,1 k=1 gen step 150100: 0.6984 (of 2500)\n",
      "karel-lgrl-ref-state-m123-sgd-cl1-lr0.1-lds100k-ldr0.5 0,0,1 k=1 exact step 150100: 0.4024 (of 2500)\n",
      "karel-lgrl-ref-state-m123-sgd-cl1-lr0.1-lds100k-ldr0.5 0,0,1 k=64 gen step 150100: 0.8484 (of 2500)\n",
      "karel-lgrl-ref-state-m123-sgd-cl1-lr0.1-lds100k-ldr0.5 0,0,1 k=64 exact step 150100: 0.5780 (of 2500)\n"
     ]
    }
   ],
   "source": [
    "print_results('logdirs/20180208/karel-lgrl-ref-state-m123-sgd-cl1-lr0.1-lds100k-ldr0.5/exec-results-dev-m1-150100.pkl')\n",
    "print_results('logdirs/20180208/karel-lgrl-ref-state-m123-sgd-cl1-lr0.1-lds100k-ldr0.5/exec-results-dev-m0,1-150100.pkl')\n",
    "print_results('logdirs/20180208/karel-lgrl-ref-state-m123-sgd-cl1-lr0.1-lds100k-ldr0.5/exec-results-dev-m0,0,1-150100.pkl')"
   ]
  },
  {
   "cell_type": "code",
   "execution_count": 51,
   "metadata": {},
   "outputs": [
    {
     "name": "stdout",
     "output_type": "stream",
     "text": [
      "karel-lgrl-ref-state-mem-m123-sgd-cl1-lr0.1-lds100k-ldr0.5 1 k=1 gen step 100100: 0.7752 (of 2500)\n",
      "karel-lgrl-ref-state-mem-m123-sgd-cl1-lr0.1-lds100k-ldr0.5 1 k=1 exact step 100100: 0.6920 (of 2500)\n",
      "karel-lgrl-ref-state-mem-m123-sgd-cl1-lr0.1-lds100k-ldr0.5 1 k=64 gen step 100100: 0.9780 (of 2500)\n",
      "karel-lgrl-ref-state-mem-m123-sgd-cl1-lr0.1-lds100k-ldr0.5 1 k=64 exact step 100100: 0.9572 (of 2500)\n",
      "karel-lgrl-ref-state-mem-m123-sgd-cl1-lr0.1-lds100k-ldr0.5 0,1 k=1 gen step 100100: 0.6800 (of 2500)\n",
      "karel-lgrl-ref-state-mem-m123-sgd-cl1-lr0.1-lds100k-ldr0.5 0,1 k=1 exact step 100100: 0.5836 (of 2500)\n",
      "karel-lgrl-ref-state-mem-m123-sgd-cl1-lr0.1-lds100k-ldr0.5 0,1 k=64 gen step 100100: 0.9452 (of 2500)\n",
      "karel-lgrl-ref-state-mem-m123-sgd-cl1-lr0.1-lds100k-ldr0.5 0,1 k=64 exact step 100100: 0.8988 (of 2500)\n",
      "karel-lgrl-ref-state-mem-m123-sgd-cl1-lr0.1-lds100k-ldr0.5 0,0,1 k=1 gen step 100100: 0.6048 (of 2500)\n",
      "karel-lgrl-ref-state-mem-m123-sgd-cl1-lr0.1-lds100k-ldr0.5 0,0,1 k=1 exact step 100100: 0.4976 (of 2500)\n",
      "karel-lgrl-ref-state-mem-m123-sgd-cl1-lr0.1-lds100k-ldr0.5 0,0,1 k=64 gen step 100100: 0.8976 (of 2500)\n",
      "karel-lgrl-ref-state-mem-m123-sgd-cl1-lr0.1-lds100k-ldr0.5 0,0,1 k=64 exact step 100100: 0.8328 (of 2500)\n"
     ]
    }
   ],
   "source": [
    "print_results('logdirs/20180208/karel-lgrl-ref-state-mem-m123-sgd-cl1-lr0.1-lds100k-ldr0.5/exec-results-dev-m1-100100.pkl')\n",
    "print_results('logdirs/20180208/karel-lgrl-ref-state-mem-m123-sgd-cl1-lr0.1-lds100k-ldr0.5/exec-results-dev-m0,1-100100.pkl')\n",
    "print_results('logdirs/20180208/karel-lgrl-ref-state-mem-m123-sgd-cl1-lr0.1-lds100k-ldr0.5/exec-results-dev-m0,0,1-100100.pkl')"
   ]
  },
  {
   "cell_type": "code",
   "execution_count": 53,
   "metadata": {
    "scrolled": true
   },
   "outputs": [
    {
     "name": "stdout",
     "output_type": "stream",
     "text": [
      "karel-lgrl-ref-edit-state-mem-m123-sgd-cl1-lr0.1-lds100k-ldr0.5 1 k=1 gen step 300100: 0.4704 (of 2500)\n",
      "karel-lgrl-ref-edit-state-mem-m123-sgd-cl1-lr0.1-lds100k-ldr0.5 1 k=1 exact step 300100: 0.3348 (of 2500)\n",
      "karel-lgrl-ref-edit-state-mem-m123-sgd-cl1-lr0.1-lds100k-ldr0.5 1 k=64 gen step 300100: 0.8792 (of 2500)\n",
      "karel-lgrl-ref-edit-state-mem-m123-sgd-cl1-lr0.1-lds100k-ldr0.5 1 k=64 exact step 300100: 0.5704 (of 2500)\n",
      "karel-lgrl-ref-edit-state-mem-m123-sgd-cl1-lr0.1-lds100k-ldr0.5 0,1 k=1 gen step 350100: 0.4040 (of 2500)\n",
      "karel-lgrl-ref-edit-state-mem-m123-sgd-cl1-lr0.1-lds100k-ldr0.5 0,1 k=1 exact step 350100: 0.3008 (of 2500)\n",
      "karel-lgrl-ref-edit-state-mem-m123-sgd-cl1-lr0.1-lds100k-ldr0.5 0,1 k=64 gen step 350100: 0.8096 (of 2500)\n",
      "karel-lgrl-ref-edit-state-mem-m123-sgd-cl1-lr0.1-lds100k-ldr0.5 0,1 k=64 exact step 350100: 0.5556 (of 2500)\n",
      "karel-lgrl-ref-edit-state-mem-m123-sgd-cl1-lr0.1-lds100k-ldr0.5 0,0,1 k=1 gen step 436300: 0.3076 (of 2500)\n",
      "karel-lgrl-ref-edit-state-mem-m123-sgd-cl1-lr0.1-lds100k-ldr0.5 0,0,1 k=1 exact step 436300: 0.2176 (of 2500)\n",
      "karel-lgrl-ref-edit-state-mem-m123-sgd-cl1-lr0.1-lds100k-ldr0.5 0,0,1 k=64 gen step 436300: 0.7212 (of 2500)\n",
      "karel-lgrl-ref-edit-state-mem-m123-sgd-cl1-lr0.1-lds100k-ldr0.5 0,0,1 k=64 exact step 436300: 0.5072 (of 2500)\n"
     ]
    }
   ],
   "source": [
    "print_results('logdirs/20180207/karel-lgrl-ref-edit-state-mem-m123-sgd-cl1-lr0.1-lds100k-ldr0.5/exec-results-dev-m1-300100.pkl')\n",
    "print_results('logdirs/20180207/karel-lgrl-ref-edit-state-mem-m123-sgd-cl1-lr0.1-lds100k-ldr0.5/exec-results-dev-m0,1-350100.pkl')\n",
    "print_results('logdirs/20180207/karel-lgrl-ref-edit-state-mem-m123-sgd-cl1-lr0.1-lds100k-ldr0.5/exec-results-dev-m0,0,1-436300.pkl')"
   ]
  },
  {
   "cell_type": "code",
   "execution_count": 98,
   "metadata": {},
   "outputs": [
    {
     "name": "stdout",
     "output_type": "stream",
     "text": [
      "karel-sgd-cl1-lr1-lds100k-ldr0.5 k=1 gen step 150100: 0.7068 (of 2500)\n",
      "karel-sgd-cl1-lr1-lds100k-ldr0.5 k=1 exact step 150100: 0.4032 (of 2500)\n",
      "karel-sgd-cl1-lr1-lds100k-ldr0.5 k=64 gen step 150100: 0.8552 (of 2500)\n",
      "karel-sgd-cl1-lr1-lds100k-ldr0.5 k=64 exact step 150100: 0.5776 (of 2500)\n"
     ]
    }
   ],
   "source": [
    "def print_results2(fn):\n",
    "    step = re.search(r'exec-results-dev-(\\d+).pkl', fn).group(1)\n",
    "    step = int(step)\n",
    "    model_name = os.path.basename(os.path.dirname(fn))\n",
    "    exec_results = pickle.load(open(fn))\n",
    "    \n",
    "    for k in (1, 64):\n",
    "        correct, total = test_top_n_any(exec_results, k)\n",
    "        accuracy = correct / float(total)\n",
    "        print '{} k={} gen step {}: {:.4f} (of {})'.format(model_name, k, step, accuracy, total)\n",
    "\n",
    "        correct, total = test_top_n_any_exact_match(exec_results, k)\n",
    "        accuracy = correct / float(total)\n",
    "        print '{} k={} exact step {}: {:.4f} (of {})'.format(model_name,  k, step, accuracy, total)\n",
    "print_results2('../text2code/models/20180115/karel-sgd-cl1-lr1-lds100k-ldr0.5/exec-results-dev-00150100.pkl')\n"
   ]
  },
  {
   "cell_type": "code",
   "execution_count": 92,
   "metadata": {},
   "outputs": [
    {
     "name": "stdout",
     "output_type": "stream",
     "text": [
      "karel-sgd-cl1-lr1-lds100k-ldr0.5 k=1 gen step 150100: 0.7036 (of 2500)\n",
      "karel-sgd-cl1-lr1-lds100k-ldr0.5 k=1 exact step 150100: 0.3904 (of 2500)\n",
      "karel-sgd-cl1-lr1-lds100k-ldr0.5 k=64 gen step 150100: 0.8580 (of 2500)\n",
      "karel-sgd-cl1-lr1-lds100k-ldr0.5 k=64 exact step 150100: 0.5812 (of 2500)\n"
     ]
    }
   ],
   "source": [
    "print_results2('../text2code/models/20180115/karel-sgd-cl1-lr1-lds100k-ldr0.5/exec-results-test-00150100.pkl')"
   ]
  },
  {
   "cell_type": "code",
   "execution_count": null,
   "metadata": {},
   "outputs": [],
   "source": []
  }
 ],
 "metadata": {
  "kernelspec": {
   "display_name": "Python 2",
   "language": "python",
   "name": "python2"
  },
  "language_info": {
   "codemirror_mode": {
    "name": "ipython",
    "version": 2
   },
   "file_extension": ".py",
   "mimetype": "text/x-python",
   "name": "python",
   "nbconvert_exporter": "python",
   "pygments_lexer": "ipython2",
   "version": "2.7.12"
  }
 },
 "nbformat": 4,
 "nbformat_minor": 2
}
