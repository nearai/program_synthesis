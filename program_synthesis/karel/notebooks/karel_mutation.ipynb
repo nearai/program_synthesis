{
 "cells": [
  {
   "cell_type": "code",
   "execution_count": 201,
   "metadata": {},
   "outputs": [],
   "source": [
    "from datasets.karel import parser_for_synthesis, mutation\n",
    "\n",
    "import collections\n",
    "import copy\n",
    "import json\n",
    "import cPickle as pickle\n",
    "import pprint\n",
    "\n",
    "import numpy as np"
   ]
  },
  {
   "cell_type": "code",
   "execution_count": 202,
   "metadata": {},
   "outputs": [],
   "source": [
    "unique_programs = pickle.load(open('/home/richard/text2code/data/karel/train-unique.pkl'))"
   ]
  },
  {
   "cell_type": "code",
   "execution_count": 217,
   "metadata": {},
   "outputs": [],
   "source": [
    "parser = parser_for_synthesis.KarelForSynthesisParser(build_tree=True)"
   ]
  },
  {
   "cell_type": "code",
   "execution_count": 204,
   "metadata": {},
   "outputs": [],
   "source": [
    "def parse_tokens(t):\n",
    "    return parser.parse(t).tree"
   ]
  },
  {
   "cell_type": "code",
   "execution_count": 205,
   "metadata": {},
   "outputs": [
    {
     "data": {
      "text/plain": [
       "<module 'datasets.karel.mutation' from 'datasets/karel/mutation.pyc'>"
      ]
     },
     "execution_count": 205,
     "metadata": {},
     "output_type": "execute_result"
    }
   ],
   "source": [
    "reload(mutation)"
   ]
  },
  {
   "cell_type": "code",
   "execution_count": 225,
   "metadata": {},
   "outputs": [],
   "source": [
    "prog = parser.parse(unique_programs[4][0])"
   ]
  },
  {
   "cell_type": "code",
   "execution_count": 224,
   "metadata": {},
   "outputs": [
    {
     "data": {
      "text/plain": [
       "{'body': [{'type': 'move'},\n",
       "  {'type': 'turnRight'},\n",
       "  {'type': 'move'},\n",
       "  {'body': [{'type': 'putMarker'},\n",
       "    {'cond': {'type': 'rightIsClear'},\n",
       "     'elseBody': [{'body': [{'type': 'putMarker'}, {'type': 'turnLeft'}],\n",
       "       'times': {'type': 'count', 'value': 6},\n",
       "       'type': 'repeat'},\n",
       "      {'type': 'pickMarker'},\n",
       "      {'type': 'turnLeft'}],\n",
       "     'ifBody': [{'type': 'move'}],\n",
       "     'type': 'ifElse'}],\n",
       "   'cond': {'cond': {'type': 'leftIsClear'}, 'type': 'not'},\n",
       "   'type': 'while'},\n",
       "  {'type': 'pickMarker'}],\n",
       " 'type': 'run'}"
      ]
     },
     "execution_count": 224,
     "metadata": {},
     "output_type": "execute_result"
    }
   ],
   "source": [
    "parser.parse(unique_programs[4][0])"
   ]
  },
  {
   "cell_type": "code",
   "execution_count": 196,
   "metadata": {},
   "outputs": [],
   "source": [
    "prog = parse_tokens('DEF run m( IF c( leftIsClear c) i( move i) m)')"
   ]
  },
  {
   "cell_type": "code",
   "execution_count": 226,
   "metadata": {},
   "outputs": [
    {
     "data": {
      "text/plain": [
       "'DEF run m( move turnRight move WHILE c( not c( leftIsClear c) c) w( putMarker IFELSE c( rightIsClear c) i( move i) ELSE e( REPEAT R=6 r( putMarker turnLeft r) pickMarker turnLeft e) w) pickMarker m)'"
      ]
     },
     "execution_count": 226,
     "metadata": {},
     "output_type": "execute_result"
    }
   ],
   "source": [
    "' '.join(parser_for_synthesis.tree_to_tokens(prog))"
   ]
  },
  {
   "cell_type": "code",
   "execution_count": 227,
   "metadata": {},
   "outputs": [
    {
     "data": {
      "text/plain": [
       "'DEF run m( move turnRight move putMarker IFELSE c( rightIsClear c) i( move i) ELSE e( REPEAT R=6 r( putMarker turnLeft r) pickMarker turnLeft e) pickMarker m)'"
      ]
     },
     "execution_count": 227,
     "metadata": {},
     "output_type": "execute_result"
    }
   ],
   "source": [
    "' '.join(parser_for_synthesis.tree_to_tokens(mutation.mutate(copy.deepcopy(prog))))"
   ]
  },
  {
   "cell_type": "code",
   "execution_count": 200,
   "metadata": {},
   "outputs": [
    {
     "name": "stdout",
     "output_type": "stream",
     "text": [
      "DEF run m( move m)\n",
      "DEF run m( pickMarker m)\n",
      "DEF run m( turnRight m)\n"
     ]
    },
    {
     "data": {
      "text/plain": [
       "'DEF run m( turnRight m)'"
      ]
     },
     "execution_count": 200,
     "metadata": {},
     "output_type": "execute_result"
    }
   ],
   "source": [
    "' '.join(parser_for_synthesis.tree_to_tokens(mutation.mutate_n(prog, 3)))"
   ]
  },
  {
   "cell_type": "code",
   "execution_count": null,
   "metadata": {},
   "outputs": [],
   "source": []
  },
  {
   "cell_type": "code",
   "execution_count": 96,
   "metadata": {},
   "outputs": [
    {
     "data": {
      "text/plain": [
       "'DEF run m( REPEAT R=5 r( IFELSE c( markersPresent c) i( turnRight i) ELSE e( move e) r) pickMarker m)'"
      ]
     },
     "execution_count": 96,
     "metadata": {},
     "output_type": "execute_result"
    }
   ],
   "source": [
    "' '.join(parser_for_synthesis.tree_to_tokens(\n",
    "    mutation.mutate(parse_tokens(unique_programs[0][0]), [0, 1, 0, 0, 0, 0, 0])))"
   ]
  },
  {
   "cell_type": "code",
   "execution_count": null,
   "metadata": {},
   "outputs": [],
   "source": []
  },
  {
   "cell_type": "code",
   "execution_count": 27,
   "metadata": {},
   "outputs": [
    {
     "ename": "ValueError",
     "evalue": "a must be 1-dimensional",
     "output_type": "error",
     "traceback": [
      "\u001b[0;31m---------------------------------------------------------------------------\u001b[0m",
      "\u001b[0;31mValueError\u001b[0m                                Traceback (most recent call last)",
      "\u001b[0;32m<ipython-input-27-299ebb3ccf48>\u001b[0m in \u001b[0;36m<module>\u001b[0;34m()\u001b[0m\n\u001b[0;32m----> 1\u001b[0;31m \u001b[0mnp\u001b[0m\u001b[0;34m.\u001b[0m\u001b[0mrandom\u001b[0m\u001b[0;34m.\u001b[0m\u001b[0mchoice\u001b[0m\u001b[0;34m(\u001b[0m\u001b[0;34m[\u001b[0m\u001b[0;34m(\u001b[0m\u001b[0;34m'a'\u001b[0m\u001b[0;34m,\u001b[0m \u001b[0;34m'b'\u001b[0m\u001b[0;34m)\u001b[0m\u001b[0;34m,\u001b[0m \u001b[0;34m(\u001b[0m\u001b[0;34m'c'\u001b[0m\u001b[0;34m,\u001b[0m \u001b[0;34m'd'\u001b[0m\u001b[0;34m)\u001b[0m\u001b[0;34m]\u001b[0m\u001b[0;34m)\u001b[0m\u001b[0;34m\u001b[0m\u001b[0m\n\u001b[0m",
      "\u001b[0;32mmtrand.pyx\u001b[0m in \u001b[0;36mmtrand.RandomState.choice (numpy/random/mtrand/mtrand.c:17151)\u001b[0;34m()\u001b[0m\n",
      "\u001b[0;31mValueError\u001b[0m: a must be 1-dimensional"
     ]
    }
   ],
   "source": [
    "[('a', 'b'), ('c', 'd')])"
   ]
  },
  {
   "cell_type": "code",
   "execution_count": null,
   "metadata": {},
   "outputs": [],
   "source": []
  }
 ],
 "metadata": {
  "kernelspec": {
   "display_name": "Python 2",
   "language": "python",
   "name": "python2"
  },
  "language_info": {
   "codemirror_mode": {
    "name": "ipython",
    "version": 2
   },
   "file_extension": ".py",
   "mimetype": "text/x-python",
   "name": "python",
   "nbconvert_exporter": "python",
   "pygments_lexer": "ipython2",
   "version": "2.7.12"
  }
 },
 "nbformat": 4,
 "nbformat_minor": 2
}
