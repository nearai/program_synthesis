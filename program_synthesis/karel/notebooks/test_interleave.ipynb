{
 "cells": [
  {
   "cell_type": "code",
   "execution_count": 1,
   "metadata": {},
   "outputs": [],
   "source": [
    "import torch\n",
    "from models import karel_model"
   ]
  },
  {
   "cell_type": "code",
   "execution_count": 49,
   "metadata": {},
   "outputs": [
    {
     "data": {
      "text/plain": [
       "<module 'models.karel_model' from 'models/karel_model.pyc'>"
      ]
     },
     "execution_count": 49,
     "metadata": {},
     "output_type": "execute_result"
    }
   ],
   "source": [
    "reload(karel_model)"
   ]
  },
  {
   "cell_type": "code",
   "execution_count": 57,
   "metadata": {},
   "outputs": [],
   "source": [
    "left_list = [[2, 3, 5, 7], [11, 13], [17, 19, 23]]\n",
    "right_list = [[-1, 1], [1, 2, 3], [5, 8, 13, 21]]"
   ]
  },
  {
   "cell_type": "code",
   "execution_count": 58,
   "metadata": {},
   "outputs": [],
   "source": [
    "left_packed = karel_model.lists_to_packed_sequence(\n",
    "    left_list, [], torch.FloatTensor, lambda x: x)\n",
    "right_packed = karel_model.lists_to_packed_sequence(\n",
    "    right_list, [], torch.FloatTensor, lambda x: x)"
   ]
  },
  {
   "cell_type": "code",
   "execution_count": 59,
   "metadata": {},
   "outputs": [
    {
     "data": {
      "text/plain": [
       "PackedSequencePlus(ps=PackedSequence(data=\n",
       "  2\n",
       " 17\n",
       " 11\n",
       "  3\n",
       " 19\n",
       " 13\n",
       "  5\n",
       " 23\n",
       "  7\n",
       "[torch.FloatTensor of size 9]\n",
       ", batch_sizes=[3, 3, 2, 1]), lengths=[4, 3, 2], sort_to_orig=[0, 2, 1], orig_to_sort=(0, 2, 1))"
      ]
     },
     "execution_count": 59,
     "metadata": {},
     "output_type": "execute_result"
    }
   ],
   "source": [
    "left_packed"
   ]
  },
  {
   "cell_type": "code",
   "execution_count": 60,
   "metadata": {},
   "outputs": [
    {
     "data": {
      "text/plain": [
       "PackedSequencePlus(ps=PackedSequence(data=\n",
       "  5\n",
       "  1\n",
       " -1\n",
       "  8\n",
       "  2\n",
       "  1\n",
       " 13\n",
       "  3\n",
       " 21\n",
       "[torch.FloatTensor of size 9]\n",
       ", batch_sizes=[3, 3, 2, 1]), lengths=[4, 3, 2], sort_to_orig=[2, 1, 0], orig_to_sort=(2, 1, 0))"
      ]
     },
     "execution_count": 60,
     "metadata": {},
     "output_type": "execute_result"
    }
   ],
   "source": [
    "right_packed"
   ]
  },
  {
   "cell_type": "code",
   "execution_count": 61,
   "metadata": {},
   "outputs": [
    {
     "name": "stdout",
     "output_type": "stream",
     "text": [
      "combined lengths: [6 5 7]\n",
      "sorted lengths: (7, 6, 5)\n",
      "orig to sort: (2, 0, 1)\n",
      "sort to orig: [1, 2, 0]\n",
      "0 3 0 2 0 0\n",
      "0 3 1 0 0 1\n",
      "0 3 2 1 1 2\n",
      "1 3 0 2 0 3\n",
      "1 3 1 0 0 4\n",
      "1 3 2 1 1 5\n",
      "2 3 0 2 1 6\n",
      "2 3 1 0 1 7\n",
      "2 3 2 1 0 8\n",
      "3 3 0 2 1 9\n",
      "3 3 1 0 0 10\n",
      "3 3 2 1 0 11\n",
      "4 3 0 2 1 12\n",
      "4 3 1 0 1 13\n",
      "4 3 2 1 1 14\n",
      "5 2 0 2 0 15\n",
      "5 2 1 0 0 16\n",
      "6 1 0 2 1 17\n",
      "[[0, 1, 3, 4, 8, 10, 11, 15, 16], [2, 5, 6, 7, 9, 12, 13, 14, 17]]\n",
      "[[1, 0, 4, 3, 2, 6, 5, 7, 8], [1, 4, 0, 2, 3, 6, 5, 7, 8]]\n"
     ]
    }
   ],
   "source": [
    "interleaved_psp = karel_model.interleave_packed_sequences(\n",
    "    (left_packed, right_packed),\n",
    "    [[0, 0, 1, 0, 1, 0],\n",
    "     [1, 1, 0, 0, 1],\n",
    "     [0, 0, 1, 1, 1, 0, 1]])"
   ]
  },
  {
   "cell_type": "code",
   "execution_count": 62,
   "metadata": {},
   "outputs": [
    {
     "data": {
      "text/plain": [
       "(Variable containing:\n",
       "     2     3    -1     5     1     7     0\n",
       "     1     2    11    13     3     0     0\n",
       "    17    19     5     8    13    23    21\n",
       " [torch.FloatTensor of size 3x7], [6, 5, 7])"
      ]
     },
     "execution_count": 62,
     "metadata": {},
     "output_type": "execute_result"
    }
   ],
   "source": [
    "interleaved_psp.pad(True)"
   ]
  },
  {
   "cell_type": "code",
   "execution_count": 22,
   "metadata": {},
   "outputs": [
    {
     "ename": "StopIteration",
     "evalue": "",
     "output_type": "error",
     "traceback": [
      "\u001b[0;31m---------------------------------------------------------------------------\u001b[0m",
      "\u001b[0;31mStopIteration\u001b[0m                             Traceback (most recent call last)",
      "\u001b[0;32m<ipython-input-22-7ffbced0ba4a>\u001b[0m in \u001b[0;36m<module>\u001b[0;34m()\u001b[0m\n\u001b[1;32m      6\u001b[0m \u001b[0mnext\u001b[0m\u001b[0;34m(\u001b[0m\u001b[0mit\u001b[0m\u001b[0;34m)\u001b[0m\u001b[0;34m\u001b[0m\u001b[0m\n\u001b[1;32m      7\u001b[0m \u001b[0mnext\u001b[0m\u001b[0;34m(\u001b[0m\u001b[0mit\u001b[0m\u001b[0;34m)\u001b[0m\u001b[0;34m\u001b[0m\u001b[0m\n\u001b[0;32m----> 8\u001b[0;31m \u001b[0mnext\u001b[0m\u001b[0;34m(\u001b[0m\u001b[0mit\u001b[0m\u001b[0;34m)\u001b[0m\u001b[0;34m\u001b[0m\u001b[0m\n\u001b[0m",
      "\u001b[0;31mStopIteration\u001b[0m: "
     ]
    }
   ],
   "source": [
    "it = iter([0, 0, 1, 0, 1, 0])\n",
    "next(it)\n",
    "next(it)\n",
    "next(it)\n",
    "next(it)\n",
    "next(it)\n",
    "next(it)\n",
    "next(it)"
   ]
  },
  {
   "cell_type": "code",
   "execution_count": null,
   "metadata": {},
   "outputs": [],
   "source": []
  }
 ],
 "metadata": {
  "kernelspec": {
   "display_name": "Python 2",
   "language": "python",
   "name": "python2"
  },
  "language_info": {
   "codemirror_mode": {
    "name": "ipython",
    "version": 2
   },
   "file_extension": ".py",
   "mimetype": "text/x-python",
   "name": "python",
   "nbconvert_exporter": "python",
   "pygments_lexer": "ipython2",
   "version": "2.7.12"
  }
 },
 "nbformat": 4,
 "nbformat_minor": 2
}
